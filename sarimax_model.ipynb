{
 "cells": [
  {
   "cell_type": "code",
   "execution_count": 4,
   "metadata": {
    "collapsed": true
   },
   "outputs": [],
   "source": [
    "import pandas as pd\n",
    "import numpy as np\n",
    "from datetime import datetime\n",
    "from dateutil.parser import parse\n",
    "from scipy import stats\n",
    "from pylab import rcParams\n",
    "import statsmodels.api as sm\n",
    "from statsmodels.tsa.stattools import adfuller\n",
    "\n",
    "import time\n",
    "\n",
    "import matplotlib.pyplot as plt\n",
    "import matplotlib\n",
    "import seaborn as sns\n",
    "import folium\n",
    "import fbprophet\n",
    "plt.style.use('fivethirtyeight')\n",
    "#import pickle\n",
    "import gc\n",
    "import warnings\n",
    "warnings.filterwarnings('ignore')"
   ]
  },
  {
   "cell_type": "code",
   "execution_count": 5,
   "metadata": {
    "collapsed": true
   },
   "outputs": [],
   "source": [
    "import xgboost as xgb\n",
    "from sklearn.preprocessing import LabelEncoder\n",
    "import itertools\n",
    "from datetime import timedelta\n",
    "\n",
    "from joblib import Parallel, delayed\n",
    "import multiprocessing"
   ]
  },
  {
   "cell_type": "code",
   "execution_count": 6,
   "metadata": {
    "collapsed": true
   },
   "outputs": [],
   "source": [
    "train_16 = pd.read_csv('D:/ML work/Zillow Home Value Prediction/train_2016_v2/train_2016_v2.csv')\n",
    "properties_16 = pd.read_csv('D:/ML work/Zillow Home Value Prediction/properties_2016/properties_2016.csv')\n",
    "\n",
    "train_17 = pd.read_csv('D:/ML work/Zillow Home Value Prediction/train_2017.csv/train_2017.csv')\n",
    "properties_17 = pd.read_csv('D:/ML work/Zillow Home Value Prediction/properties_2017.csv/properties_2017.csv')"
   ]
  },
  {
   "cell_type": "code",
   "execution_count": null,
   "metadata": {
    "collapsed": true
   },
   "outputs": [],
   "source": []
  },
  {
   "cell_type": "code",
   "execution_count": 7,
   "metadata": {
    "collapsed": true
   },
   "outputs": [],
   "source": [
    "#properties_df = pd.DataFrame()"
   ]
  },
  {
   "cell_type": "code",
   "execution_count": 8,
   "metadata": {
    "collapsed": true
   },
   "outputs": [],
   "source": [
    "#for chunk in properties:\n",
    "#    properties_df = properties_df.append(chunk, ignore_index = True)"
   ]
  },
  {
   "cell_type": "code",
   "execution_count": 9,
   "metadata": {},
   "outputs": [
    {
     "data": {
      "text/plain": [
       "((90275, 3), (2985217, 58), (77613, 3), (2985217, 58))"
      ]
     },
     "execution_count": 9,
     "metadata": {},
     "output_type": "execute_result"
    }
   ],
   "source": [
    "train_16.shape, properties_16.shape, train_17.shape, properties_17.shape"
   ]
  },
  {
   "cell_type": "code",
   "execution_count": 10,
   "metadata": {},
   "outputs": [
    {
     "data": {
      "text/html": [
       "<div>\n",
       "<style>\n",
       "    .dataframe thead tr:only-child th {\n",
       "        text-align: right;\n",
       "    }\n",
       "\n",
       "    .dataframe thead th {\n",
       "        text-align: left;\n",
       "    }\n",
       "\n",
       "    .dataframe tbody tr th {\n",
       "        vertical-align: top;\n",
       "    }\n",
       "</style>\n",
       "<table border=\"1\" class=\"dataframe\">\n",
       "  <thead>\n",
       "    <tr style=\"text-align: right;\">\n",
       "      <th></th>\n",
       "      <th>parcelid</th>\n",
       "      <th>logerror</th>\n",
       "      <th>transactiondate</th>\n",
       "    </tr>\n",
       "  </thead>\n",
       "  <tbody>\n",
       "    <tr>\n",
       "      <th>77608</th>\n",
       "      <td>10833991</td>\n",
       "      <td>-0.002245</td>\n",
       "      <td>2017-09-20</td>\n",
       "    </tr>\n",
       "    <tr>\n",
       "      <th>77609</th>\n",
       "      <td>11000655</td>\n",
       "      <td>0.020615</td>\n",
       "      <td>2017-09-20</td>\n",
       "    </tr>\n",
       "    <tr>\n",
       "      <th>77610</th>\n",
       "      <td>17239384</td>\n",
       "      <td>0.013209</td>\n",
       "      <td>2017-09-21</td>\n",
       "    </tr>\n",
       "    <tr>\n",
       "      <th>77611</th>\n",
       "      <td>12773139</td>\n",
       "      <td>0.037129</td>\n",
       "      <td>2017-09-21</td>\n",
       "    </tr>\n",
       "    <tr>\n",
       "      <th>77612</th>\n",
       "      <td>12826780</td>\n",
       "      <td>0.007204</td>\n",
       "      <td>2017-09-25</td>\n",
       "    </tr>\n",
       "  </tbody>\n",
       "</table>\n",
       "</div>"
      ],
      "text/plain": [
       "       parcelid  logerror transactiondate\n",
       "77608  10833991 -0.002245      2017-09-20\n",
       "77609  11000655  0.020615      2017-09-20\n",
       "77610  17239384  0.013209      2017-09-21\n",
       "77611  12773139  0.037129      2017-09-21\n",
       "77612  12826780  0.007204      2017-09-25"
      ]
     },
     "execution_count": 10,
     "metadata": {},
     "output_type": "execute_result"
    }
   ],
   "source": [
    "train_17.tail()"
   ]
  },
  {
   "cell_type": "code",
   "execution_count": 11,
   "metadata": {
    "collapsed": true
   },
   "outputs": [],
   "source": [
    "train_16['transactiondate'] = pd.to_datetime(train_16['transactiondate'], format = '%Y-%m-%d')\n",
    "train_17['transactiondate'] = pd.to_datetime(train_17['transactiondate'], format = '%Y-%m-%d')"
   ]
  },
  {
   "cell_type": "code",
   "execution_count": 12,
   "metadata": {
    "collapsed": true
   },
   "outputs": [],
   "source": [
    "properties_df_16 = properties_16.merge(train_16, how = 'left', on = 'parcelid')\n",
    "del properties_16, train_16\n",
    "\n",
    "properties_df_17 = properties_17.merge(train_17, how = 'left', on = 'parcelid')\n",
    "del properties_17, train_17"
   ]
  },
  {
   "cell_type": "code",
   "execution_count": 13,
   "metadata": {
    "collapsed": true
   },
   "outputs": [],
   "source": [
    "#properties_df = pd.concat([properties_df_16, properties_df_17])"
   ]
  },
  {
   "cell_type": "code",
   "execution_count": 14,
   "metadata": {
    "collapsed": true
   },
   "outputs": [],
   "source": [
    "properties_df = properties_df_16"
   ]
  },
  {
   "cell_type": "code",
   "execution_count": 15,
   "metadata": {},
   "outputs": [
    {
     "data": {
      "text/plain": [
       "88"
      ]
     },
     "execution_count": 15,
     "metadata": {},
     "output_type": "execute_result"
    }
   ],
   "source": [
    "del properties_df_16#, properties_df_17\n",
    "gc.collect()"
   ]
  },
  {
   "cell_type": "code",
   "execution_count": 16,
   "metadata": {},
   "outputs": [
    {
     "data": {
      "text/plain": [
       "(2985342, 60)"
      ]
     },
     "execution_count": 16,
     "metadata": {},
     "output_type": "execute_result"
    }
   ],
   "source": [
    "properties_df.shape"
   ]
  },
  {
   "cell_type": "code",
   "execution_count": 17,
   "metadata": {
    "scrolled": false
   },
   "outputs": [
    {
     "name": "stdout",
     "output_type": "stream",
     "text": [
      "<class 'pandas.core.frame.DataFrame'>\n",
      "Int64Index: 2985342 entries, 0 to 2985341\n",
      "Data columns (total 60 columns):\n",
      "parcelid                        int64\n",
      "airconditioningtypeid           float64\n",
      "architecturalstyletypeid        float64\n",
      "basementsqft                    float64\n",
      "bathroomcnt                     float64\n",
      "bedroomcnt                      float64\n",
      "buildingclasstypeid             float64\n",
      "buildingqualitytypeid           float64\n",
      "calculatedbathnbr               float64\n",
      "decktypeid                      float64\n",
      "finishedfloor1squarefeet        float64\n",
      "calculatedfinishedsquarefeet    float64\n",
      "finishedsquarefeet12            float64\n",
      "finishedsquarefeet13            float64\n",
      "finishedsquarefeet15            float64\n",
      "finishedsquarefeet50            float64\n",
      "finishedsquarefeet6             float64\n",
      "fips                            float64\n",
      "fireplacecnt                    float64\n",
      "fullbathcnt                     float64\n",
      "garagecarcnt                    float64\n",
      "garagetotalsqft                 float64\n",
      "hashottuborspa                  object\n",
      "heatingorsystemtypeid           float64\n",
      "latitude                        float64\n",
      "longitude                       float64\n",
      "lotsizesquarefeet               float64\n",
      "poolcnt                         float64\n",
      "poolsizesum                     float64\n",
      "pooltypeid10                    float64\n",
      "pooltypeid2                     float64\n",
      "pooltypeid7                     float64\n",
      "propertycountylandusecode       object\n",
      "propertylandusetypeid           float64\n",
      "propertyzoningdesc              object\n",
      "rawcensustractandblock          float64\n",
      "regionidcity                    float64\n",
      "regionidcounty                  float64\n",
      "regionidneighborhood            float64\n",
      "regionidzip                     float64\n",
      "roomcnt                         float64\n",
      "storytypeid                     float64\n",
      "threequarterbathnbr             float64\n",
      "typeconstructiontypeid          float64\n",
      "unitcnt                         float64\n",
      "yardbuildingsqft17              float64\n",
      "yardbuildingsqft26              float64\n",
      "yearbuilt                       float64\n",
      "numberofstories                 float64\n",
      "fireplaceflag                   object\n",
      "structuretaxvaluedollarcnt      float64\n",
      "taxvaluedollarcnt               float64\n",
      "assessmentyear                  float64\n",
      "landtaxvaluedollarcnt           float64\n",
      "taxamount                       float64\n",
      "taxdelinquencyflag              object\n",
      "taxdelinquencyyear              float64\n",
      "censustractandblock             float64\n",
      "logerror                        float64\n",
      "transactiondate                 datetime64[ns]\n",
      "dtypes: datetime64[ns](1), float64(53), int64(1), object(5)\n",
      "memory usage: 1.4+ GB\n"
     ]
    }
   ],
   "source": [
    "properties_df.info()"
   ]
  },
  {
   "cell_type": "code",
   "execution_count": 18,
   "metadata": {
    "collapsed": true
   },
   "outputs": [],
   "source": [
    "#del properties_df\n",
    "#gc.collect()"
   ]
  },
  {
   "cell_type": "code",
   "execution_count": 19,
   "metadata": {
    "collapsed": true
   },
   "outputs": [],
   "source": [
    "properties_df.drop(['taxvaluedollarcnt', 'landtaxvaluedollarcnt', 'taxamount'], axis = 1, inplace = True)"
   ]
  },
  {
   "cell_type": "code",
   "execution_count": 20,
   "metadata": {},
   "outputs": [
    {
     "data": {
      "text/plain": [
       "74"
      ]
     },
     "execution_count": 20,
     "metadata": {},
     "output_type": "execute_result"
    }
   ],
   "source": [
    "for c, dtype in zip(properties_df.columns, properties_df.dtypes):\n",
    "    if dtype == np.float64:\n",
    "        properties_df[c] = properties_df[c].astype(np.float32) \n",
    "    elif dtype == np.int64:\n",
    "        properties_df[c] = properties_df[c].astype(np.int32)\n",
    "#end for loop\n",
    "\n",
    "gc.collect()"
   ]
  },
  {
   "cell_type": "code",
   "execution_count": 21,
   "metadata": {},
   "outputs": [
    {
     "data": {
      "text/plain": [
       "datetime64[ns]     1\n",
       "float32           50\n",
       "int32              1\n",
       "object             5\n",
       "dtype: int64"
      ]
     },
     "execution_count": 21,
     "metadata": {},
     "output_type": "execute_result"
    }
   ],
   "source": [
    "properties_df.get_dtype_counts()"
   ]
  },
  {
   "cell_type": "code",
   "execution_count": 22,
   "metadata": {},
   "outputs": [
    {
     "data": {
      "text/plain": [
       "(0.01145784743130207, 0.0060000001, 0.16107094287872314)"
      ]
     },
     "execution_count": 22,
     "metadata": {},
     "output_type": "execute_result"
    }
   ],
   "source": [
    "error_mean = np.mean(properties_df['logerror'])\n",
    "error_median = np.median(properties_df['logerror'].dropna())\n",
    "error_std = np.std(properties_df['logerror'])\n",
    "\n",
    "error_mean, error_median, error_std"
   ]
  },
  {
   "cell_type": "code",
   "execution_count": 23,
   "metadata": {},
   "outputs": [
    {
     "data": {
      "text/plain": [
       "parcelid                        2985342\n",
       "airconditioningtypeid            811552\n",
       "architecturalstyletypeid           6062\n",
       "basementsqft                       1628\n",
       "bathroomcnt                     2973880\n",
       "bedroomcnt                      2973892\n",
       "buildingclasstypeid               12629\n",
       "buildingqualitytypeid           1938568\n",
       "calculatedbathnbr               2856424\n",
       "decktypeid                        17096\n",
       "finishedfloor1squarefeet         202723\n",
       "calculatedfinishedsquarefeet    2929774\n",
       "finishedsquarefeet12            2709295\n",
       "finishedsquarefeet13               7672\n",
       "finishedsquarefeet15             190807\n",
       "finishedsquarefeet50             202723\n",
       "finishedsquarefeet6               22003\n",
       "fips                            2973905\n",
       "fireplacecnt                     312647\n",
       "fullbathcnt                     2856424\n",
       "garagecarcnt                     883307\n",
       "garagetotalsqft                  883307\n",
       "hashottuborspa                    69016\n",
       "heatingorsystemtypeid           1806476\n",
       "latitude                        2973905\n",
       "longitude                       2973905\n",
       "lotsizesquarefeet               2709229\n",
       "poolcnt                          517559\n",
       "poolsizesum                       27963\n",
       "pooltypeid10                      36941\n",
       "pooltypeid2                       32075\n",
       "pooltypeid7                      485484\n",
       "propertycountylandusecode       2973065\n",
       "propertylandusetypeid           2973905\n",
       "propertyzoningdesc              1978710\n",
       "rawcensustractandblock          2973905\n",
       "regionidcity                    2922495\n",
       "regionidcounty                  2973905\n",
       "regionidneighborhood            1156458\n",
       "regionidzip                     2971362\n",
       "roomcnt                         2973867\n",
       "storytypeid                        1624\n",
       "threequarterbathnbr              311644\n",
       "typeconstructiontypeid             6748\n",
       "unitcnt                         1977572\n",
       "yardbuildingsqft17                80356\n",
       "yardbuildingsqft26                 2647\n",
       "yearbuilt                       2925411\n",
       "numberofstories                  682099\n",
       "fireplaceflag                      5165\n",
       "structuretaxvaluedollarcnt      2930358\n",
       "assessmentyear                  2973903\n",
       "taxdelinquencyflag                56470\n",
       "taxdelinquencyyear                56472\n",
       "censustractandblock             2910214\n",
       "logerror                          90275\n",
       "transactiondate                   90275\n",
       "dtype: int64"
      ]
     },
     "execution_count": 23,
     "metadata": {},
     "output_type": "execute_result"
    }
   ],
   "source": [
    "properties_df.count()"
   ]
  },
  {
   "cell_type": "code",
   "execution_count": 24,
   "metadata": {
    "collapsed": true
   },
   "outputs": [],
   "source": [
    "properties_df['calculatedbathnbr'] = np.where(np.isnan(properties_df['calculatedbathnbr']), properties_df['bathroomcnt'], properties_df['calculatedbathnbr'])"
   ]
  },
  {
   "cell_type": "code",
   "execution_count": 25,
   "metadata": {
    "collapsed": true
   },
   "outputs": [],
   "source": [
    "#drop bathroomcnt\n",
    "properties_df.drop('bathroomcnt', axis = 1, inplace = True)"
   ]
  },
  {
   "cell_type": "code",
   "execution_count": 26,
   "metadata": {
    "collapsed": true
   },
   "outputs": [],
   "source": [
    "# So we can safely drop one column of them\n",
    "properties_df.drop('finishedsquarefeet50', axis = 1, inplace = True)"
   ]
  },
  {
   "cell_type": "code",
   "execution_count": 27,
   "metadata": {
    "collapsed": true
   },
   "outputs": [],
   "source": [
    "# if condition is satisfied then replace with True else False\n",
    "# assume that if fireplacecnt is null, then fireplaceflg will be false\n",
    "properties_df['fireplaceflag'] = np.where(pd.isnull(properties_df['fireplaceflag']) & pd.notnull(properties_df['fireplacecnt']) & properties_df['fireplacecnt'] > 0, True, False)"
   ]
  },
  {
   "cell_type": "code",
   "execution_count": 28,
   "metadata": {},
   "outputs": [
    {
     "data": {
      "text/plain": [
       "2985342"
      ]
     },
     "execution_count": 28,
     "metadata": {},
     "output_type": "execute_result"
    }
   ],
   "source": [
    "properties_df['fireplaceflag'].count()\n",
    "# fireplaceflag is recovered"
   ]
  },
  {
   "cell_type": "code",
   "execution_count": 29,
   "metadata": {
    "collapsed": true
   },
   "outputs": [],
   "source": [
    "index = properties_df['fireplacecnt'].isnull()\n",
    "properties_df.loc[index, 'fireplacecnt'] = 0"
   ]
  },
  {
   "cell_type": "code",
   "execution_count": 30,
   "metadata": {
    "collapsed": true
   },
   "outputs": [],
   "source": [
    "properties_df['house_age'] = datetime.now().date().year - properties_df['yearbuilt']"
   ]
  },
  {
   "cell_type": "code",
   "execution_count": 31,
   "metadata": {
    "collapsed": true
   },
   "outputs": [],
   "source": [
    "#assume if taxdelinquencyflag is null then False (doesn't exist)\n",
    "index = properties_df['taxdelinquencyflag'].isnull()\n",
    "properties_df.loc[index, 'taxdelinquencyflag'] = False"
   ]
  },
  {
   "cell_type": "code",
   "execution_count": 32,
   "metadata": {
    "collapsed": true
   },
   "outputs": [],
   "source": [
    "properties_df.drop('pooltypeid10', axis = 1, inplace = True)"
   ]
  },
  {
   "cell_type": "code",
   "execution_count": 33,
   "metadata": {
    "collapsed": true
   },
   "outputs": [],
   "source": [
    "# this does not make sense in theory. it should be assigned poolcnt - pooltypeid7\n",
    "index = (properties_df['pooltypeid2'].isnull()) & (properties_df['hashottuborspa'] == True) & (properties_df['poolcnt'].notnull()) & ((properties_df['pooltypeid7']).notnull())\n",
    "properties_df.loc[index, 'pooltypeid2'] = properties_df.loc[index, 'poolcnt'] - properties_df.loc[index, 'pooltypeid7']"
   ]
  },
  {
   "cell_type": "code",
   "execution_count": 34,
   "metadata": {
    "collapsed": true
   },
   "outputs": [],
   "source": [
    "index = (properties_df['pooltypeid2'].isnull()) & (properties_df['hashottuborspa'] == True) & (properties_df['poolcnt'].notnull()) & ((properties_df['pooltypeid7']).isnull())\n",
    "properties_df.loc[index, 'pooltypeid2'] = properties_df['poolcnt']\n",
    "\n",
    "index = (properties_df['pooltypeid2'].isnull()) & (properties_df['poolcnt'].isnull())\n",
    "properties_df.loc[index, 'pooltypeid2'] = 0.0"
   ]
  },
  {
   "cell_type": "code",
   "execution_count": 35,
   "metadata": {
    "collapsed": true
   },
   "outputs": [],
   "source": [
    "#this does not make sense, assign poolcnt to pooltypeid7\n",
    "index = (properties_df['pooltypeid7'].isnull()) & (properties_df['poolcnt'].notnull() & (properties_df['pooltypeid2'].notnull())) \n",
    "properties_df.loc[index, 'pooltypeid7'] = properties_df.loc[index, 'poolcnt'] - properties_df.loc[index, 'pooltypeid2']\n",
    " "
   ]
  },
  {
   "cell_type": "code",
   "execution_count": 36,
   "metadata": {
    "collapsed": true
   },
   "outputs": [],
   "source": [
    "index = properties_df.hashottuborspa.isnull()\n",
    "properties_df.loc[index, 'hashottuborspa'] = False\n",
    "\n",
    "index = properties_df.pooltypeid2.isnull()\n",
    "properties_df.loc[index,'pooltypeid2'] = 0\n",
    "\n",
    "index = properties_df.pooltypeid7.isnull()\n",
    "properties_df.loc[index,'pooltypeid7'] = 0\n",
    "\n",
    "index = properties_df.poolcnt.isnull()\n",
    "properties_df.loc[index,'poolcnt'] = 0\n",
    "\n",
    "index = (properties_df.poolcnt == 0)\n",
    "properties_df.loc[index, 'poolsizesum'] = 0"
   ]
  },
  {
   "cell_type": "code",
   "execution_count": 37,
   "metadata": {
    "collapsed": true
   },
   "outputs": [],
   "source": [
    "# replace 'Y' with True in taxdelinquencyflag\n",
    "index = (properties_df.taxdelinquencyflag == 'Y')\n",
    "properties_df.loc[index,'taxdelinquencyflag'] = True"
   ]
  },
  {
   "cell_type": "code",
   "execution_count": 38,
   "metadata": {
    "collapsed": true
   },
   "outputs": [],
   "source": [
    "properties_df['taxdelinquencyflag'] = properties_df.taxdelinquencyflag.astype(np.bool)"
   ]
  },
  {
   "cell_type": "code",
   "execution_count": 39,
   "metadata": {
    "collapsed": true
   },
   "outputs": [],
   "source": [
    "properties_df['hashottuborspa'] = properties_df.hashottuborspa.astype(np.bool)"
   ]
  },
  {
   "cell_type": "code",
   "execution_count": 40,
   "metadata": {
    "collapsed": true
   },
   "outputs": [],
   "source": [
    "#Null in garage count means there are no garages\n",
    "index = properties_df.garagecarcnt.isnull()\n",
    "properties_df.loc[index,'garagecarcnt'] = 0"
   ]
  },
  {
   "cell_type": "code",
   "execution_count": 41,
   "metadata": {
    "collapsed": true
   },
   "outputs": [],
   "source": [
    "#error in calculation of the finished living area of home\n",
    "properties_df['N-LivingAreaError'] = properties_df['calculatedfinishedsquarefeet'] / properties_df['finishedsquarefeet12']\n"
   ]
  },
  {
   "cell_type": "code",
   "execution_count": 42,
   "metadata": {
    "collapsed": true
   },
   "outputs": [],
   "source": [
    "#proportion of living area\n",
    "properties_df['N-LivingAreaProp'] = properties_df['calculatedfinishedsquarefeet'] / properties_df['lotsizesquarefeet']\n",
    "properties_df['N-LivingAreaProp2'] = properties_df['finishedsquarefeet12'] / properties_df['finishedsquarefeet15']"
   ]
  },
  {
   "cell_type": "code",
   "execution_count": 43,
   "metadata": {
    "collapsed": true
   },
   "outputs": [],
   "source": [
    "#Amout of extra space\n",
    "properties_df['N-ExtraSpace'] = properties_df['lotsizesquarefeet'] - properties_df['calculatedfinishedsquarefeet'] \n",
    "properties_df['N-ExtraSpace-2'] = properties_df['finishedsquarefeet15'] - properties_df['finishedsquarefeet12']"
   ]
  },
  {
   "cell_type": "code",
   "execution_count": 44,
   "metadata": {
    "collapsed": true
   },
   "outputs": [],
   "source": [
    "#Average room size\n",
    "properties_df['N-AvRoomSize'] = properties_df['calculatedfinishedsquarefeet'] / properties_df['roomcnt']"
   ]
  },
  {
   "cell_type": "code",
   "execution_count": 45,
   "metadata": {
    "collapsed": true
   },
   "outputs": [],
   "source": [
    "#Total number of rooms\n",
    "properties_df['N-TotalRooms'] = properties_df['calculatedbathnbr'] + properties_df['bedroomcnt']"
   ]
  },
  {
   "cell_type": "code",
   "execution_count": 46,
   "metadata": {
    "collapsed": true
   },
   "outputs": [],
   "source": [
    "# Number of Extra rooms\n",
    "properties_df['N-ExtraRooms'] = properties_df['roomcnt'] - properties_df['N-TotalRooms']"
   ]
  },
  {
   "cell_type": "code",
   "execution_count": 47,
   "metadata": {
    "collapsed": true
   },
   "outputs": [],
   "source": [
    "\n",
    "\n",
    "\n",
    "# #Ratio of the built structure value to land area\n",
    "\n",
    "# properties_df['N-ValueProp'] = properties_df['structuretaxvaluedollarcnt']/properties_df['landtaxvaluedollarcnt']"
   ]
  },
  {
   "cell_type": "code",
   "execution_count": 48,
   "metadata": {
    "collapsed": true
   },
   "outputs": [],
   "source": [
    "#Does property have a garage, pool or hot tub and AC?\n",
    "properties_df['N-GarPoolAC'] = ((properties_df['garagecarcnt']>0) & (properties_df['hashottuborspa']>0) & (properties_df['airconditioningtypeid']!=5))*1"
   ]
  },
  {
   "cell_type": "code",
   "execution_count": 49,
   "metadata": {
    "collapsed": true
   },
   "outputs": [],
   "source": [
    "properties_df[\"N-location\"] = properties_df[\"latitude\"] + properties_df[\"longitude\"]\n",
    "properties_df[\"N-location-2\"] = properties_df[\"latitude\"] * properties_df[\"longitude\"]\n",
    "properties_df[\"N-location-2round\"] = properties_df[\"N-location-2\"].round(-4)\n",
    "\n",
    "properties_df[\"N-latitude-round\"] = properties_df[\"latitude\"].round(-4)\n",
    "properties_df[\"N-longitude-round\"] = properties_df[\"longitude\"].round(-4)"
   ]
  },
  {
   "cell_type": "code",
   "execution_count": 50,
   "metadata": {
    "collapsed": true
   },
   "outputs": [],
   "source": [
    "# #Ratio of tax of property over parcel\n",
    "# properties_df['N-ValueRatio'] = properties_df['taxvaluedollarcnt'] / properties_df['taxamount']\n",
    "\n",
    "# #TotalTaxScore\n",
    "# properties_df['N-TaxScore'] = properties_df['taxvaluedollarcnt']*properties_df['taxamount']\n",
    "\n",
    "#polnomials of tax delinquency year\n",
    "properties_df[\"N-taxdelinquencyyear-2\"] = properties_df[\"taxdelinquencyyear\"] ** 2\n",
    "properties_df[\"N-taxdelinquencyyear-3\"] = properties_df[\"taxdelinquencyyear\"] ** 3\n",
    "\n",
    "#Length of time since unpaid taxes\n",
    "properties_df['N-life'] = 2018 - properties_df['taxdelinquencyyear']"
   ]
  },
  {
   "cell_type": "code",
   "execution_count": 51,
   "metadata": {
    "collapsed": true
   },
   "outputs": [],
   "source": [
    "#Number of properties in the zip\n",
    "zip_count = properties_df['regionidzip'].value_counts().to_dict()\n",
    "properties_df['N-zip_count'] = properties_df['regionidzip'].map(zip_count)\n",
    "\n",
    "#Number of properties in the city\n",
    "city_count = properties_df['regionidcity'].value_counts().to_dict()\n",
    "properties_df['N-city_count'] = properties_df['regionidcity'].map(city_count)\n",
    "\n",
    "#Number of properties in the city\n",
    "region_count = properties_df['regionidcounty'].value_counts().to_dict()\n",
    "properties_df['N-county_count'] = properties_df['regionidcounty'].map(city_count)"
   ]
  },
  {
   "cell_type": "code",
   "execution_count": 52,
   "metadata": {
    "collapsed": true
   },
   "outputs": [],
   "source": [
    "#Indicator whether it has AC or not\n",
    "properties_df['N-ACInd'] = (properties_df['airconditioningtypeid']!=5)*1"
   ]
  },
  {
   "cell_type": "code",
   "execution_count": 53,
   "metadata": {
    "collapsed": true
   },
   "outputs": [],
   "source": [
    "#Indicator whether it has Heating or not \n",
    "properties_df['N-HeatInd'] = (properties_df['heatingorsystemtypeid']!=13)*1"
   ]
  },
  {
   "cell_type": "code",
   "execution_count": 54,
   "metadata": {
    "collapsed": true
   },
   "outputs": [],
   "source": [
    "#polnomials of the variable\n",
    "properties_df[\"N-structuretaxvaluedollarcnt-2\"] = properties_df[\"structuretaxvaluedollarcnt\"] ** 2\n",
    "properties_df[\"N-structuretaxvaluedollarcnt-3\"] = properties_df[\"structuretaxvaluedollarcnt\"] ** 3\n",
    "\n",
    "#Average structuretaxvaluedollarcnt by city\n",
    "group = properties_df.groupby('regionidcity')['structuretaxvaluedollarcnt'].aggregate('mean').to_dict()\n",
    "properties_df['N-Avg-structuretaxvaluedollarcnt'] = properties_df['regionidcity'].map(group)\n",
    "\n",
    "#Deviation away from average\n",
    "properties_df['N-Dev-structuretaxvaluedollarcnt'] = abs((properties_df['structuretaxvaluedollarcnt'] - properties_df['N-Avg-structuretaxvaluedollarcnt']))/properties_df['N-Avg-structuretaxvaluedollarcnt']"
   ]
  },
  {
   "cell_type": "code",
   "execution_count": 55,
   "metadata": {
    "collapsed": true
   },
   "outputs": [],
   "source": [
    "properties_df['hashottuborspa'] = properties_df['hashottuborspa'].astype(np.int32)\n",
    "properties_df['fireplaceflag'] = properties_df['fireplaceflag'].astype(np.int32)\n",
    "properties_df['taxdelinquencyflag'] = properties_df['taxdelinquencyflag'].astype(np.int32)\n",
    "properties_df['fireplaceflag'] = properties_df['fireplaceflag'].astype(np.int32)"
   ]
  },
  {
   "cell_type": "code",
   "execution_count": 56,
   "metadata": {},
   "outputs": [
    {
     "name": "stdout",
     "output_type": "stream",
     "text": [
      "<class 'pandas.core.frame.DataFrame'>\n",
      "Int64Index: 2985342 entries, 0 to 2985341\n",
      "Data columns (total 81 columns):\n",
      "parcelid                            int32\n",
      "airconditioningtypeid               float32\n",
      "architecturalstyletypeid            float32\n",
      "basementsqft                        float32\n",
      "bedroomcnt                          float32\n",
      "buildingclasstypeid                 float32\n",
      "buildingqualitytypeid               float32\n",
      "calculatedbathnbr                   float32\n",
      "decktypeid                          float32\n",
      "finishedfloor1squarefeet            float32\n",
      "calculatedfinishedsquarefeet        float32\n",
      "finishedsquarefeet12                float32\n",
      "finishedsquarefeet13                float32\n",
      "finishedsquarefeet15                float32\n",
      "finishedsquarefeet6                 float32\n",
      "fips                                float32\n",
      "fireplacecnt                        float32\n",
      "fullbathcnt                         float32\n",
      "garagecarcnt                        float32\n",
      "garagetotalsqft                     float32\n",
      "hashottuborspa                      int32\n",
      "heatingorsystemtypeid               float32\n",
      "latitude                            float32\n",
      "longitude                           float32\n",
      "lotsizesquarefeet                   float32\n",
      "poolcnt                             float32\n",
      "poolsizesum                         float32\n",
      "pooltypeid2                         float32\n",
      "pooltypeid7                         float32\n",
      "propertycountylandusecode           object\n",
      "propertylandusetypeid               float32\n",
      "propertyzoningdesc                  object\n",
      "rawcensustractandblock              float32\n",
      "regionidcity                        float32\n",
      "regionidcounty                      float32\n",
      "regionidneighborhood                float32\n",
      "regionidzip                         float32\n",
      "roomcnt                             float32\n",
      "storytypeid                         float32\n",
      "threequarterbathnbr                 float32\n",
      "typeconstructiontypeid              float32\n",
      "unitcnt                             float32\n",
      "yardbuildingsqft17                  float32\n",
      "yardbuildingsqft26                  float32\n",
      "yearbuilt                           float32\n",
      "numberofstories                     float32\n",
      "fireplaceflag                       int32\n",
      "structuretaxvaluedollarcnt          float32\n",
      "assessmentyear                      float32\n",
      "taxdelinquencyflag                  int32\n",
      "taxdelinquencyyear                  float32\n",
      "censustractandblock                 float32\n",
      "logerror                            float32\n",
      "transactiondate                     datetime64[ns]\n",
      "house_age                           float32\n",
      "N-LivingAreaError                   float32\n",
      "N-LivingAreaProp                    float32\n",
      "N-LivingAreaProp2                   float32\n",
      "N-ExtraSpace                        float32\n",
      "N-ExtraSpace-2                      float32\n",
      "N-AvRoomSize                        float32\n",
      "N-TotalRooms                        float32\n",
      "N-ExtraRooms                        float32\n",
      "N-GarPoolAC                         int32\n",
      "N-location                          float32\n",
      "N-location-2                        float32\n",
      "N-location-2round                   float32\n",
      "N-latitude-round                    float32\n",
      "N-longitude-round                   float32\n",
      "N-taxdelinquencyyear-2              float32\n",
      "N-taxdelinquencyyear-3              float32\n",
      "N-life                              float32\n",
      "N-zip_count                         float64\n",
      "N-city_count                        float64\n",
      "N-county_count                      float64\n",
      "N-ACInd                             int32\n",
      "N-HeatInd                           int32\n",
      "N-structuretaxvaluedollarcnt-2      float32\n",
      "N-structuretaxvaluedollarcnt-3      float32\n",
      "N-Avg-structuretaxvaluedollarcnt    float64\n",
      "N-Dev-structuretaxvaluedollarcnt    float64\n",
      "dtypes: datetime64[ns](1), float32(66), float64(5), int32(7), object(2)\n",
      "memory usage: 1.0+ GB\n"
     ]
    }
   ],
   "source": [
    "properties_df.info()"
   ]
  },
  {
   "cell_type": "code",
   "execution_count": 57,
   "metadata": {},
   "outputs": [
    {
     "name": "stdout",
     "output_type": "stream",
     "text": [
      "parcelid\n",
      "airconditioningtypeid\n",
      "architecturalstyletypeid\n",
      "basementsqft\n",
      "bedroomcnt\n",
      "buildingclasstypeid\n",
      "buildingqualitytypeid\n",
      "calculatedbathnbr\n",
      "decktypeid\n",
      "finishedfloor1squarefeet\n",
      "calculatedfinishedsquarefeet\n",
      "finishedsquarefeet12\n",
      "finishedsquarefeet13\n",
      "finishedsquarefeet15\n",
      "finishedsquarefeet6\n",
      "fips\n",
      "fireplacecnt\n",
      "fullbathcnt\n",
      "garagecarcnt\n",
      "garagetotalsqft\n",
      "hashottuborspa\n",
      "heatingorsystemtypeid\n",
      "latitude\n",
      "longitude\n",
      "lotsizesquarefeet\n",
      "poolcnt\n",
      "poolsizesum\n",
      "pooltypeid2\n",
      "pooltypeid7\n",
      "propertycountylandusecode\n",
      "propertylandusetypeid\n",
      "propertyzoningdesc\n",
      "rawcensustractandblock\n",
      "regionidcity\n",
      "regionidcounty\n",
      "regionidneighborhood\n",
      "regionidzip\n",
      "roomcnt\n",
      "storytypeid\n",
      "threequarterbathnbr\n",
      "typeconstructiontypeid\n",
      "unitcnt\n",
      "yardbuildingsqft17\n",
      "yardbuildingsqft26\n",
      "yearbuilt\n",
      "numberofstories\n",
      "fireplaceflag\n",
      "structuretaxvaluedollarcnt\n",
      "assessmentyear\n",
      "taxdelinquencyflag\n",
      "taxdelinquencyyear\n",
      "censustractandblock\n",
      "logerror\n",
      "transactiondate\n",
      "house_age\n",
      "N-LivingAreaError\n",
      "N-LivingAreaProp\n",
      "N-LivingAreaProp2\n",
      "N-ExtraSpace\n",
      "N-ExtraSpace-2\n",
      "N-AvRoomSize\n",
      "N-TotalRooms\n",
      "N-ExtraRooms\n",
      "N-GarPoolAC\n",
      "N-location\n",
      "N-location-2\n",
      "N-location-2round\n",
      "N-latitude-round\n",
      "N-longitude-round\n",
      "N-taxdelinquencyyear-2\n",
      "N-taxdelinquencyyear-3\n",
      "N-life\n",
      "N-zip_count\n",
      "N-city_count\n",
      "N-county_count\n",
      "N-ACInd\n",
      "N-HeatInd\n",
      "N-structuretaxvaluedollarcnt-2\n",
      "N-structuretaxvaluedollarcnt-3\n",
      "N-Avg-structuretaxvaluedollarcnt\n",
      "N-Dev-structuretaxvaluedollarcnt\n"
     ]
    }
   ],
   "source": [
    "\n",
    "count = properties_df.count()\n",
    "\n",
    "for j in properties_df.columns:\n",
    "    if (properties_df[j].count() < 5970758):\n",
    "        print(j)"
   ]
  },
  {
   "cell_type": "code",
   "execution_count": 58,
   "metadata": {
    "collapsed": true
   },
   "outputs": [],
   "source": [
    "properties_df['airconditioningtypeid'].fillna(value=0.0, inplace = True)\n",
    "properties_df['architecturalstyletypeid'].fillna(value=0.0, inplace = True)\n",
    "properties_df['basementsqft'].fillna(value=0.0, inplace = True)\n",
    "properties_df['bedroomcnt'].fillna(value=0.0, inplace = True)\n",
    "properties_df['buildingclasstypeid'].fillna(value=0.0, inplace = True)\n",
    "properties_df['buildingqualitytypeid'].fillna(value=0.0, inplace = True)\n",
    "\n",
    "properties_df['decktypeid'].fillna(value=0.0, inplace = True)\n",
    "properties_df['finishedfloor1squarefeet'].fillna(value=0.0, inplace = True)\n",
    "\n",
    "properties_df['finishedsquarefeet12'].fillna(value=0.0, inplace = True)\n",
    "properties_df['finishedsquarefeet13'].fillna(value=0.0, inplace = True)\n",
    "properties_df['finishedsquarefeet15'].fillna(value=0.0, inplace = True)\n",
    "properties_df['finishedsquarefeet6'].fillna(value=0.0, inplace = True)\n",
    "properties_df['fips'].fillna(value=0.0, inplace = True)\n",
    "properties_df['censustractandblock'].fillna(value = 0.0, inplace = True)\n",
    "properties_df['taxdelinquencyyear'].fillna(value = 0.0, inplace = True)\n",
    "properties_df['heatingorsystemtypeid'].fillna(value=0.0, inplace = True)\n",
    "properties_df['latitude'].fillna(value=0.0, inplace = True)\n",
    "properties_df['longitude'].fillna(value=0.0, inplace = True)\n",
    "properties_df['propertylandusetypeid'].fillna(value = 0.0, inplace = True)\n",
    "properties_df['rawcensustractandblock'].fillna(value = 0.0, inplace = True)\n",
    "\n",
    "properties_df['regionidcity'].fillna(value = 0.0, inplace = True)\n",
    "properties_df['regionidcounty'].fillna(value = 0.0, inplace = True)\n",
    "properties_df['regionidneighborhood'].fillna(value = 0.0, inplace = True)\n",
    "properties_df['regionidzip'].fillna(value = 0.0, inplace = True)\n",
    "properties_df['roomcnt'].fillna(value = 0.0, inplace = True)\n",
    "properties_df['yearbuilt'].fillna(value = 0.0, inplace = True)\n",
    "properties_df['structuretaxvaluedollarcnt'].fillna(value = 0.0, inplace = True)\n",
    "# properties_df['taxvaluedollarcnt'].fillna(value = 0.0, inplace = True)\n",
    "properties_df['assessmentyear'].fillna(value = 0.0, inplace = True)\n",
    "# properties_df['landtaxvaluedollarcnt'].fillna(value = 0.0, inplace = True)\n",
    "# properties_df['taxamount'].fillna(value = 0.0, inplace = True)\n",
    "properties_df['numberofstories'].fillna(value = 0.0, inplace = True)\n",
    "\n",
    "properties_df['poolsizesum'].fillna(value=0.0, inplace = True)\n",
    "properties_df['house_age'].fillna(value=1.0, inplace = True)\n",
    "properties_df['N-LivingAreaError'].fillna(value=0.0, inplace = True)\n",
    "properties_df['N-LivingAreaProp'].fillna(value=0.0, inplace = True)\n",
    "properties_df['N-ExtraSpace'].fillna(value=0.0, inplace = True)\n",
    "properties_df['N-TotalRooms'].fillna(value=0.0, inplace = True)\n",
    "properties_df['N-ExtraRooms'].fillna(value=0.0, inplace = True)\n",
    "# properties_df['N-ValueProp'].fillna(value=0.0, inplace = True)\n",
    "properties_df['N-location'].fillna(value=0.0, inplace = True)\n",
    "properties_df['N-location-2'].fillna(value=0.0, inplace = True)\n",
    "properties_df['N-location-2round'].fillna(value=0.0, inplace = True)\n",
    "properties_df['N-latitude-round'].fillna(value=0.0, inplace = True)\n",
    "properties_df['N-longitude-round'].fillna(value=0.0, inplace = True)\n",
    "# properties_df['N-ValueRatio'].fillna(value=0.0, inplace = True)\n",
    "# properties_df['N-TaxScore'].fillna(value=0.0, inplace = True)\n",
    "properties_df['N-taxdelinquencyyear-2'].fillna(value=0.0, inplace = True)\n",
    "properties_df['N-taxdelinquencyyear-3'].fillna(value=0.0, inplace = True)\n",
    "properties_df['N-life'].fillna(value=0.0, inplace = True)\n",
    "properties_df['N-zip_count'].fillna(value=0.0, inplace = True)\n",
    "properties_df['N-city_count'].fillna(value=0.0, inplace = True)\n",
    "properties_df['N-structuretaxvaluedollarcnt-2'].fillna(value=0.0, inplace = True)\n",
    "properties_df['N-structuretaxvaluedollarcnt-3'].fillna(value=0.0, inplace = True)\n",
    "properties_df['N-Avg-structuretaxvaluedollarcnt'].fillna(value=0.0, inplace = True)\n",
    "properties_df['N-Dev-structuretaxvaluedollarcnt'].fillna(value=0.0, inplace = True)\n"
   ]
  },
  {
   "cell_type": "code",
   "execution_count": 59,
   "metadata": {
    "collapsed": true
   },
   "outputs": [],
   "source": [
    "properties_df['storytypeid'].fillna(value=0.0, inplace = True)"
   ]
  },
  {
   "cell_type": "code",
   "execution_count": 60,
   "metadata": {
    "collapsed": true
   },
   "outputs": [],
   "source": [
    "properties_df['threequarterbathnbr'].fillna(value=0.0, inplace = True)"
   ]
  },
  {
   "cell_type": "code",
   "execution_count": 61,
   "metadata": {
    "collapsed": true
   },
   "outputs": [],
   "source": [
    "properties_df['typeconstructiontypeid'].fillna(value=0.0, inplace = True)"
   ]
  },
  {
   "cell_type": "code",
   "execution_count": 62,
   "metadata": {
    "collapsed": true
   },
   "outputs": [],
   "source": [
    "properties_df['unitcnt'].fillna(value=1.0, inplace = True)"
   ]
  },
  {
   "cell_type": "code",
   "execution_count": 63,
   "metadata": {
    "collapsed": true
   },
   "outputs": [],
   "source": [
    "properties_df['calculatedfinishedsquarefeet'].fillna(value=0.0,inplace = True)"
   ]
  },
  {
   "cell_type": "code",
   "execution_count": 64,
   "metadata": {
    "collapsed": true
   },
   "outputs": [],
   "source": [
    "properties_df['yardbuildingsqft17'].fillna(value=0.0,inplace = True)"
   ]
  },
  {
   "cell_type": "code",
   "execution_count": 65,
   "metadata": {
    "collapsed": true
   },
   "outputs": [],
   "source": [
    "properties_df['yardbuildingsqft26'].fillna(value=0.0,inplace = True)"
   ]
  },
  {
   "cell_type": "code",
   "execution_count": 66,
   "metadata": {
    "collapsed": true
   },
   "outputs": [],
   "source": [
    "properties_df['calculatedbathnbr'].fillna(value=0.0, inplace = True)\n",
    "\n",
    "properties_df['fullbathcnt'].fillna(value=0.0, inplace = True)\n",
    "\n",
    "properties_df['garagetotalsqft'].fillna(value=0.0, inplace = True)\n",
    "\n",
    "properties_df['lotsizesquarefeet'].fillna(value=0.0, inplace = True)"
   ]
  },
  {
   "cell_type": "code",
   "execution_count": 67,
   "metadata": {
    "collapsed": true
   },
   "outputs": [],
   "source": [
    "properties_df.drop(['N-county_count', 'N-ExtraSpace-2', 'N-LivingAreaProp2'], inplace = True, axis = 1)"
   ]
  },
  {
   "cell_type": "code",
   "execution_count": 68,
   "metadata": {
    "collapsed": true
   },
   "outputs": [],
   "source": [
    "#because this column contains so much inf values\n",
    "properties_df.drop(['N-AvRoomSize'], axis = 1, inplace = True)"
   ]
  },
  {
   "cell_type": "code",
   "execution_count": 69,
   "metadata": {},
   "outputs": [
    {
     "name": "stdout",
     "output_type": "stream",
     "text": [
      "<class 'pandas.core.frame.DataFrame'>\n",
      "Int64Index: 2985342 entries, 0 to 2985341\n",
      "Data columns (total 77 columns):\n",
      "parcelid                            int32\n",
      "airconditioningtypeid               float32\n",
      "architecturalstyletypeid            float32\n",
      "basementsqft                        float32\n",
      "bedroomcnt                          float32\n",
      "buildingclasstypeid                 float32\n",
      "buildingqualitytypeid               float32\n",
      "calculatedbathnbr                   float32\n",
      "decktypeid                          float32\n",
      "finishedfloor1squarefeet            float32\n",
      "calculatedfinishedsquarefeet        float32\n",
      "finishedsquarefeet12                float32\n",
      "finishedsquarefeet13                float32\n",
      "finishedsquarefeet15                float32\n",
      "finishedsquarefeet6                 float32\n",
      "fips                                float32\n",
      "fireplacecnt                        float32\n",
      "fullbathcnt                         float32\n",
      "garagecarcnt                        float32\n",
      "garagetotalsqft                     float32\n",
      "hashottuborspa                      int32\n",
      "heatingorsystemtypeid               float32\n",
      "latitude                            float32\n",
      "longitude                           float32\n",
      "lotsizesquarefeet                   float32\n",
      "poolcnt                             float32\n",
      "poolsizesum                         float32\n",
      "pooltypeid2                         float32\n",
      "pooltypeid7                         float32\n",
      "propertycountylandusecode           object\n",
      "propertylandusetypeid               float32\n",
      "propertyzoningdesc                  object\n",
      "rawcensustractandblock              float32\n",
      "regionidcity                        float32\n",
      "regionidcounty                      float32\n",
      "regionidneighborhood                float32\n",
      "regionidzip                         float32\n",
      "roomcnt                             float32\n",
      "storytypeid                         float32\n",
      "threequarterbathnbr                 float32\n",
      "typeconstructiontypeid              float32\n",
      "unitcnt                             float32\n",
      "yardbuildingsqft17                  float32\n",
      "yardbuildingsqft26                  float32\n",
      "yearbuilt                           float32\n",
      "numberofstories                     float32\n",
      "fireplaceflag                       int32\n",
      "structuretaxvaluedollarcnt          float32\n",
      "assessmentyear                      float32\n",
      "taxdelinquencyflag                  int32\n",
      "taxdelinquencyyear                  float32\n",
      "censustractandblock                 float32\n",
      "logerror                            float32\n",
      "transactiondate                     datetime64[ns]\n",
      "house_age                           float32\n",
      "N-LivingAreaError                   float32\n",
      "N-LivingAreaProp                    float32\n",
      "N-ExtraSpace                        float32\n",
      "N-TotalRooms                        float32\n",
      "N-ExtraRooms                        float32\n",
      "N-GarPoolAC                         int32\n",
      "N-location                          float32\n",
      "N-location-2                        float32\n",
      "N-location-2round                   float32\n",
      "N-latitude-round                    float32\n",
      "N-longitude-round                   float32\n",
      "N-taxdelinquencyyear-2              float32\n",
      "N-taxdelinquencyyear-3              float32\n",
      "N-life                              float32\n",
      "N-zip_count                         float64\n",
      "N-city_count                        float64\n",
      "N-ACInd                             int32\n",
      "N-HeatInd                           int32\n",
      "N-structuretaxvaluedollarcnt-2      float32\n",
      "N-structuretaxvaluedollarcnt-3      float32\n",
      "N-Avg-structuretaxvaluedollarcnt    float64\n",
      "N-Dev-structuretaxvaluedollarcnt    float64\n",
      "dtypes: datetime64[ns](1), float32(63), float64(4), int32(7), object(2)\n",
      "memory usage: 979.4+ MB\n"
     ]
    }
   ],
   "source": [
    "properties_df.info()"
   ]
  },
  {
   "cell_type": "code",
   "execution_count": 70,
   "metadata": {
    "collapsed": true
   },
   "outputs": [],
   "source": [
    "properties_df.drop_duplicates(subset = ['parcelid'], inplace = True, keep = 'last')"
   ]
  },
  {
   "cell_type": "code",
   "execution_count": 71,
   "metadata": {},
   "outputs": [
    {
     "data": {
      "text/plain": [
       "(2985217, 77)"
      ]
     },
     "execution_count": 71,
     "metadata": {},
     "output_type": "execute_result"
    }
   ],
   "source": [
    "properties_df.shape"
   ]
  },
  {
   "cell_type": "code",
   "execution_count": 72,
   "metadata": {
    "collapsed": true
   },
   "outputs": [],
   "source": [
    "exog_train = properties_df[properties_df['logerror'].notnull()].drop(['logerror', 'parcelid', 'propertyzoningdesc', 'propertycountylandusecode'], axis = 1)\n",
    "\n",
    "exog_test = properties_df[properties_df['logerror'].isnull()]\n",
    "\n",
    "parcelids_test = exog_test['parcelid']\n",
    "\n",
    "exog_test.drop(['parcelid', 'logerror', 'transactiondate', 'propertyzoningdesc', 'propertycountylandusecode'], axis = 1, inplace = True)\n",
    "\n",
    "timeseries_train = properties_df[properties_df['logerror'].notnull()][['transactiondate', 'logerror']]\n",
    "\n",
    "timeseries_test = properties_df[properties_df['logerror'].isnull()][['transactiondate', 'logerror']]\n"
   ]
  },
  {
   "cell_type": "code",
   "execution_count": 73,
   "metadata": {
    "collapsed": true
   },
   "outputs": [],
   "source": [
    "exog_train.index = exog_train['transactiondate']\n",
    "exog_train.drop(['transactiondate'], axis = 1, inplace = True)\n",
    "\n",
    "timeseries_train.index = timeseries_train['transactiondate']\n",
    "timeseries_train.drop(['transactiondate'], axis = 1, inplace = True)\n",
    "\n",
    "timeseries_test.index = timeseries_test['transactiondate']\n",
    "timeseries_test.drop(['transactiondate'], axis = 1, inplace = True)"
   ]
  },
  {
   "cell_type": "code",
   "execution_count": 74,
   "metadata": {},
   "outputs": [
    {
     "data": {
      "text/html": [
       "<div>\n",
       "<style>\n",
       "    .dataframe thead tr:only-child th {\n",
       "        text-align: right;\n",
       "    }\n",
       "\n",
       "    .dataframe thead th {\n",
       "        text-align: left;\n",
       "    }\n",
       "\n",
       "    .dataframe tbody tr th {\n",
       "        vertical-align: top;\n",
       "    }\n",
       "</style>\n",
       "<table border=\"1\" class=\"dataframe\">\n",
       "  <thead>\n",
       "    <tr style=\"text-align: right;\">\n",
       "      <th></th>\n",
       "      <th>logerror</th>\n",
       "    </tr>\n",
       "    <tr>\n",
       "      <th>transactiondate</th>\n",
       "      <th></th>\n",
       "    </tr>\n",
       "  </thead>\n",
       "  <tbody>\n",
       "    <tr>\n",
       "      <th>NaT</th>\n",
       "      <td>NaN</td>\n",
       "    </tr>\n",
       "    <tr>\n",
       "      <th>NaT</th>\n",
       "      <td>NaN</td>\n",
       "    </tr>\n",
       "    <tr>\n",
       "      <th>NaT</th>\n",
       "      <td>NaN</td>\n",
       "    </tr>\n",
       "    <tr>\n",
       "      <th>NaT</th>\n",
       "      <td>NaN</td>\n",
       "    </tr>\n",
       "    <tr>\n",
       "      <th>NaT</th>\n",
       "      <td>NaN</td>\n",
       "    </tr>\n",
       "  </tbody>\n",
       "</table>\n",
       "</div>"
      ],
      "text/plain": [
       "                 logerror\n",
       "transactiondate          \n",
       "NaT                   NaN\n",
       "NaT                   NaN\n",
       "NaT                   NaN\n",
       "NaT                   NaN\n",
       "NaT                   NaN"
      ]
     },
     "execution_count": 74,
     "metadata": {},
     "output_type": "execute_result"
    }
   ],
   "source": [
    "timeseries_test.tail()"
   ]
  },
  {
   "cell_type": "code",
   "execution_count": 75,
   "metadata": {
    "collapsed": true
   },
   "outputs": [],
   "source": [
    "timeseries_train_grouped = timeseries_train.groupby('transactiondate').mean()\n",
    "exog_train_grouped = exog_train.groupby('transactiondate').mean()"
   ]
  },
  {
   "cell_type": "code",
   "execution_count": 76,
   "metadata": {
    "collapsed": true
   },
   "outputs": [],
   "source": [
    "exog_train_grouped = exog_train_grouped.asfreq('d', method = 'bfill')\n",
    "timeseries_train_grouped = timeseries_train_grouped.asfreq('d', method = 'bfill')"
   ]
  },
  {
   "cell_type": "code",
   "execution_count": 77,
   "metadata": {
    "collapsed": true
   },
   "outputs": [],
   "source": [
    "endog_sep16 = timeseries_train_grouped.loc[ : pd.to_datetime('2016-09-30')]\n",
    "endog_oct16 = timeseries_train_grouped.loc[ : pd.to_datetime('2016-10-31')]\n",
    "endog_nov16 = timeseries_train_grouped.loc[ : pd.to_datetime('2016-11-30')]\n",
    "endog_dec16 = timeseries_train_grouped.loc[ : pd.to_datetime('2016-12-31')]\n",
    "\n",
    "exog_sep16 = exog_train_grouped.loc[ : pd.to_datetime('2016-09-30')]\n",
    "exog_oct16 = exog_train_grouped.loc[ : pd.to_datetime('2016-10-31')]\n",
    "exog_nov16 = exog_train_grouped.loc[ : pd.to_datetime('2016-11-30')]\n",
    "exog_dec16 = exog_train_grouped.loc[ : pd.to_datetime('2016-12-31')]\n",
    "\n",
    "endog_exog_tuples = [(endog_sep16, exog_sep16), (endog_oct16, exog_oct16), (endog_nov16, exog_nov16)]\n",
    "\n",
    "# endog_test_oct16 = timeseries_train_grouped.loc[ pd.to_datetime('2016-10-01') : pd.to_datetime('2016-10-31')]\n",
    "# endog_test_nov16 = timeseries_train_grouped.loc[pd.to_datetime('2016-11-01'): pd.to_datetime('2016-11-30')]\n",
    "# endog_test_dec16 = timeseries_train_grouped.loc[pd.to_datetime('2016-12-01'): pd.to_datetime('2016-12-31')]\n",
    "\n",
    "#exog_test_oct16 = exog_test.loc[ pd.to_datetime('2016-10-01') : pd.to_datetime('2016-10-31')]\n",
    "#exog_test_nov16 = exog_test.loc[pd.to_datetime('2016-11-01'): pd.to_datetime('2016-11-30')]\n",
    "#exog_test_dec16 = exog_test.loc[pd.to_datetime('2016-12-01'): pd.to_datetime('2016-12-31')]\n",
    "\n",
    "#endog_17 = timeseries_train\n",
    "\n",
    "#exog_17 = exog_train\n",
    "\n",
    "#endog_test_17 = timeseries_test.loc[ pd.to_datetime('2017-09-30') : ]\n",
    "\n",
    "#exog_test_17 = exog_test.loc[ pd.to_datetime('2017-09-30') : ]"
   ]
  },
  {
   "cell_type": "code",
   "execution_count": 78,
   "metadata": {},
   "outputs": [
    {
     "data": {
      "text/plain": [
       "((365, 1), (365, 72), (2895067, 72), (2895067,))"
      ]
     },
     "execution_count": 78,
     "metadata": {},
     "output_type": "execute_result"
    }
   ],
   "source": [
    "timeseries_train_grouped.shape, exog_train_grouped.shape, exog_test.shape, parcelids_test.shape"
   ]
  },
  {
   "cell_type": "code",
   "execution_count": 79,
   "metadata": {},
   "outputs": [
    {
     "name": "stdout",
     "output_type": "stream",
     "text": [
      "Examples of parameter combinations for Seasonal ARIMA...\n",
      "SARIMAX: (0, 0, 1) x (0, 0, 1, 12)\n",
      "SARIMAX: (0, 0, 1) x (0, 1, 0, 12)\n",
      "SARIMAX: (0, 1, 0) x (0, 1, 1, 12)\n",
      "SARIMAX: (0, 1, 0) x (1, 0, 0, 12)\n"
     ]
    }
   ],
   "source": [
    "p = d = q = range(0, 2)\n",
    "pdq = list(itertools.product(p, d, q))\n",
    "seasonal_pdq = [(x[0], x[1], x[2], 12) for x in list(itertools.product(p, d, q))]\n",
    "\n",
    "print('Examples of parameter combinations for Seasonal ARIMA...')\n",
    "print('SARIMAX: {} x {}'.format(pdq[1], seasonal_pdq[1]))\n",
    "print('SARIMAX: {} x {}'.format(pdq[1], seasonal_pdq[2]))\n",
    "print('SARIMAX: {} x {}'.format(pdq[2], seasonal_pdq[3]))\n",
    "print('SARIMAX: {} x {}'.format(pdq[2], seasonal_pdq[4]))"
   ]
  },
  {
   "cell_type": "code",
   "execution_count": 80,
   "metadata": {},
   "outputs": [
    {
     "data": {
      "text/plain": [
       "((365, 72), (365, 1))"
      ]
     },
     "execution_count": 80,
     "metadata": {},
     "output_type": "execute_result"
    }
   ],
   "source": [
    "exog_train_grouped.shape, timeseries_train_grouped.shape"
   ]
  },
  {
   "cell_type": "code",
   "execution_count": 81,
   "metadata": {},
   "outputs": [
    {
     "data": {
      "text/plain": [
       "DatetimeIndex(['2016-01-01', '2016-01-02', '2016-01-03', '2016-01-04',\n",
       "               '2016-01-05', '2016-01-06', '2016-01-07', '2016-01-08',\n",
       "               '2016-01-09', '2016-01-10',\n",
       "               ...\n",
       "               '2016-12-21', '2016-12-22', '2016-12-23', '2016-12-24',\n",
       "               '2016-12-25', '2016-12-26', '2016-12-27', '2016-12-28',\n",
       "               '2016-12-29', '2016-12-30'],\n",
       "              dtype='datetime64[ns]', name='transactiondate', length=365, freq='D')"
      ]
     },
     "execution_count": 81,
     "metadata": {},
     "output_type": "execute_result"
    }
   ],
   "source": [
    "exog_train_grouped.index"
   ]
  },
  {
   "cell_type": "code",
   "execution_count": 82,
   "metadata": {},
   "outputs": [
    {
     "ename": "MemoryError",
     "evalue": "",
     "output_type": "error",
     "traceback": [
      "\u001b[1;31m---------------------------------------------------------------------------\u001b[0m",
      "\u001b[1;31mMemoryError\u001b[0m                               Traceback (most recent call last)",
      "\u001b[1;32m<ipython-input-82-c13c82e91680>\u001b[0m in \u001b[0;36m<module>\u001b[1;34m()\u001b[0m\n\u001b[0;32m     57\u001b[0m         \u001b[0mrecord\u001b[0m\u001b[1;33m.\u001b[0m\u001b[0mindex\u001b[0m\u001b[1;33m.\u001b[0m\u001b[0mname\u001b[0m \u001b[1;33m=\u001b[0m \u001b[1;34m'transactiondate'\u001b[0m\u001b[1;33m\u001b[0m\u001b[0m\n\u001b[0;32m     58\u001b[0m \u001b[1;33m\u001b[0m\u001b[0m\n\u001b[1;32m---> 59\u001b[1;33m         \u001b[0mprediction\u001b[0m \u001b[1;33m=\u001b[0m \u001b[0mget_predictions\u001b[0m\u001b[1;33m(\u001b[0m\u001b[0mrecord\u001b[0m\u001b[1;33m,\u001b[0m \u001b[0mstart_date\u001b[0m\u001b[1;33m,\u001b[0m \u001b[0mend_date\u001b[0m\u001b[1;33m)\u001b[0m\u001b[1;33m\u001b[0m\u001b[0m\n\u001b[0m\u001b[0;32m     60\u001b[0m \u001b[1;33m\u001b[0m\u001b[0m\n\u001b[0;32m     61\u001b[0m \u001b[1;31m#         datelist2 = pd.date_range(start_date + timedelta(days = 1), periods = delta.days).tolist()\u001b[0m\u001b[1;33m\u001b[0m\u001b[1;33m\u001b[0m\u001b[0m\n",
      "\u001b[1;32m<ipython-input-82-c13c82e91680>\u001b[0m in \u001b[0;36mget_predictions\u001b[1;34m(rows, start, end)\u001b[0m\n\u001b[0;32m     24\u001b[0m     \u001b[0mdf\u001b[0m \u001b[1;33m=\u001b[0m \u001b[0mpd\u001b[0m\u001b[1;33m.\u001b[0m\u001b[0mDataFrame\u001b[0m\u001b[1;33m(\u001b[0m\u001b[0mprediction\u001b[0m\u001b[1;33m.\u001b[0m\u001b[0mpredicted_mean\u001b[0m\u001b[1;33m[\u001b[0m\u001b[1;36m0\u001b[0m\u001b[1;33m]\u001b[0m\u001b[1;33m,\u001b[0m \u001b[0mindex\u001b[0m \u001b[1;33m=\u001b[0m \u001b[0mrange\u001b[0m\u001b[1;33m(\u001b[0m\u001b[1;36m0\u001b[0m\u001b[1;33m,\u001b[0m\u001b[1;36m1\u001b[0m\u001b[1;33m)\u001b[0m\u001b[1;33m,\u001b[0m \u001b[0mcolumns\u001b[0m \u001b[1;33m=\u001b[0m \u001b[1;33m[\u001b[0m\u001b[0mprediction_column\u001b[0m\u001b[1;33m]\u001b[0m\u001b[1;33m)\u001b[0m\u001b[1;33m\u001b[0m\u001b[0m\n\u001b[0;32m     25\u001b[0m \u001b[1;33m\u001b[0m\u001b[0m\n\u001b[1;32m---> 26\u001b[1;33m     \u001b[0mpredictions\u001b[0m\u001b[1;33m[\u001b[0m\u001b[0mprediction_column\u001b[0m\u001b[1;33m]\u001b[0m \u001b[1;33m=\u001b[0m \u001b[0mpredictions\u001b[0m\u001b[1;33m[\u001b[0m\u001b[0mprediction_column\u001b[0m\u001b[1;33m]\u001b[0m\u001b[1;33m.\u001b[0m\u001b[0mappend\u001b[0m\u001b[1;33m(\u001b[0m\u001b[0mdf\u001b[0m\u001b[1;33m)\u001b[0m\u001b[1;33m\u001b[0m\u001b[0m\n\u001b[0m\u001b[0;32m     27\u001b[0m \u001b[1;33m\u001b[0m\u001b[0m\n\u001b[0;32m     28\u001b[0m \u001b[1;31m#get_predictions end\u001b[0m\u001b[1;33m\u001b[0m\u001b[1;33m\u001b[0m\u001b[0m\n",
      "\u001b[1;32mD:\\AnacondaIDE\\lib\\site-packages\\pandas\\core\\frame.py\u001b[0m in \u001b[0;36mappend\u001b[1;34m(self, other, ignore_index, verify_integrity)\u001b[0m\n\u001b[0;32m   4643\u001b[0m             \u001b[0mto_concat\u001b[0m \u001b[1;33m=\u001b[0m \u001b[1;33m[\u001b[0m\u001b[0mself\u001b[0m\u001b[1;33m,\u001b[0m \u001b[0mother\u001b[0m\u001b[1;33m]\u001b[0m\u001b[1;33m\u001b[0m\u001b[0m\n\u001b[0;32m   4644\u001b[0m         return concat(to_concat, ignore_index=ignore_index,\n\u001b[1;32m-> 4645\u001b[1;33m                       verify_integrity=verify_integrity)\n\u001b[0m\u001b[0;32m   4646\u001b[0m \u001b[1;33m\u001b[0m\u001b[0m\n\u001b[0;32m   4647\u001b[0m     def join(self, other, on=None, how='left', lsuffix='', rsuffix='',\n",
      "\u001b[1;32mD:\\AnacondaIDE\\lib\\site-packages\\pandas\\core\\reshape\\concat.py\u001b[0m in \u001b[0;36mconcat\u001b[1;34m(objs, axis, join, join_axes, ignore_index, keys, levels, names, verify_integrity, copy)\u001b[0m\n\u001b[0;32m    204\u001b[0m                        \u001b[0mkeys\u001b[0m\u001b[1;33m=\u001b[0m\u001b[0mkeys\u001b[0m\u001b[1;33m,\u001b[0m \u001b[0mlevels\u001b[0m\u001b[1;33m=\u001b[0m\u001b[0mlevels\u001b[0m\u001b[1;33m,\u001b[0m \u001b[0mnames\u001b[0m\u001b[1;33m=\u001b[0m\u001b[0mnames\u001b[0m\u001b[1;33m,\u001b[0m\u001b[1;33m\u001b[0m\u001b[0m\n\u001b[0;32m    205\u001b[0m                        \u001b[0mverify_integrity\u001b[0m\u001b[1;33m=\u001b[0m\u001b[0mverify_integrity\u001b[0m\u001b[1;33m,\u001b[0m\u001b[1;33m\u001b[0m\u001b[0m\n\u001b[1;32m--> 206\u001b[1;33m                        copy=copy)\n\u001b[0m\u001b[0;32m    207\u001b[0m     \u001b[1;32mreturn\u001b[0m \u001b[0mop\u001b[0m\u001b[1;33m.\u001b[0m\u001b[0mget_result\u001b[0m\u001b[1;33m(\u001b[0m\u001b[1;33m)\u001b[0m\u001b[1;33m\u001b[0m\u001b[0m\n\u001b[0;32m    208\u001b[0m \u001b[1;33m\u001b[0m\u001b[0m\n",
      "\u001b[1;32mD:\\AnacondaIDE\\lib\\site-packages\\pandas\\core\\reshape\\concat.py\u001b[0m in \u001b[0;36m__init__\u001b[1;34m(self, objs, axis, join, join_axes, keys, levels, names, ignore_index, verify_integrity, copy)\u001b[0m\n\u001b[0;32m    352\u001b[0m         \u001b[0mself\u001b[0m\u001b[1;33m.\u001b[0m\u001b[0mcopy\u001b[0m \u001b[1;33m=\u001b[0m \u001b[0mcopy\u001b[0m\u001b[1;33m\u001b[0m\u001b[0m\n\u001b[0;32m    353\u001b[0m \u001b[1;33m\u001b[0m\u001b[0m\n\u001b[1;32m--> 354\u001b[1;33m         \u001b[0mself\u001b[0m\u001b[1;33m.\u001b[0m\u001b[0mnew_axes\u001b[0m \u001b[1;33m=\u001b[0m \u001b[0mself\u001b[0m\u001b[1;33m.\u001b[0m\u001b[0m_get_new_axes\u001b[0m\u001b[1;33m(\u001b[0m\u001b[1;33m)\u001b[0m\u001b[1;33m\u001b[0m\u001b[0m\n\u001b[0m\u001b[0;32m    355\u001b[0m \u001b[1;33m\u001b[0m\u001b[0m\n\u001b[0;32m    356\u001b[0m     \u001b[1;32mdef\u001b[0m \u001b[0mget_result\u001b[0m\u001b[1;33m(\u001b[0m\u001b[0mself\u001b[0m\u001b[1;33m)\u001b[0m\u001b[1;33m:\u001b[0m\u001b[1;33m\u001b[0m\u001b[0m\n",
      "\u001b[1;32mD:\\AnacondaIDE\\lib\\site-packages\\pandas\\core\\reshape\\concat.py\u001b[0m in \u001b[0;36m_get_new_axes\u001b[1;34m(self)\u001b[0m\n\u001b[0;32m    440\u001b[0m                 \u001b[0mnew_axes\u001b[0m\u001b[1;33m[\u001b[0m\u001b[0mi\u001b[0m\u001b[1;33m]\u001b[0m \u001b[1;33m=\u001b[0m \u001b[0max\u001b[0m\u001b[1;33m\u001b[0m\u001b[0m\n\u001b[0;32m    441\u001b[0m \u001b[1;33m\u001b[0m\u001b[0m\n\u001b[1;32m--> 442\u001b[1;33m         \u001b[0mnew_axes\u001b[0m\u001b[1;33m[\u001b[0m\u001b[0mself\u001b[0m\u001b[1;33m.\u001b[0m\u001b[0maxis\u001b[0m\u001b[1;33m]\u001b[0m \u001b[1;33m=\u001b[0m \u001b[0mself\u001b[0m\u001b[1;33m.\u001b[0m\u001b[0m_get_concat_axis\u001b[0m\u001b[1;33m(\u001b[0m\u001b[1;33m)\u001b[0m\u001b[1;33m\u001b[0m\u001b[0m\n\u001b[0m\u001b[0;32m    443\u001b[0m         \u001b[1;32mreturn\u001b[0m \u001b[0mnew_axes\u001b[0m\u001b[1;33m\u001b[0m\u001b[0m\n\u001b[0;32m    444\u001b[0m \u001b[1;33m\u001b[0m\u001b[0m\n",
      "\u001b[1;32mD:\\AnacondaIDE\\lib\\site-packages\\pandas\\core\\reshape\\concat.py\u001b[0m in \u001b[0;36m_get_concat_axis\u001b[1;34m(self)\u001b[0m\n\u001b[0;32m    494\u001b[0m \u001b[1;33m\u001b[0m\u001b[0m\n\u001b[0;32m    495\u001b[0m         \u001b[1;32mif\u001b[0m \u001b[0mself\u001b[0m\u001b[1;33m.\u001b[0m\u001b[0mkeys\u001b[0m \u001b[1;32mis\u001b[0m \u001b[1;32mNone\u001b[0m\u001b[1;33m:\u001b[0m\u001b[1;33m\u001b[0m\u001b[0m\n\u001b[1;32m--> 496\u001b[1;33m             \u001b[0mconcat_axis\u001b[0m \u001b[1;33m=\u001b[0m \u001b[0m_concat_indexes\u001b[0m\u001b[1;33m(\u001b[0m\u001b[0mindexes\u001b[0m\u001b[1;33m)\u001b[0m\u001b[1;33m\u001b[0m\u001b[0m\n\u001b[0m\u001b[0;32m    497\u001b[0m         \u001b[1;32melse\u001b[0m\u001b[1;33m:\u001b[0m\u001b[1;33m\u001b[0m\u001b[0m\n\u001b[0;32m    498\u001b[0m             concat_axis = _make_concat_multiindex(indexes, self.keys,\n",
      "\u001b[1;32mD:\\AnacondaIDE\\lib\\site-packages\\pandas\\core\\reshape\\concat.py\u001b[0m in \u001b[0;36m_concat_indexes\u001b[1;34m(indexes)\u001b[0m\n\u001b[0;32m    512\u001b[0m \u001b[1;33m\u001b[0m\u001b[0m\n\u001b[0;32m    513\u001b[0m \u001b[1;32mdef\u001b[0m \u001b[0m_concat_indexes\u001b[0m\u001b[1;33m(\u001b[0m\u001b[0mindexes\u001b[0m\u001b[1;33m)\u001b[0m\u001b[1;33m:\u001b[0m\u001b[1;33m\u001b[0m\u001b[0m\n\u001b[1;32m--> 514\u001b[1;33m     \u001b[1;32mreturn\u001b[0m \u001b[0mindexes\u001b[0m\u001b[1;33m[\u001b[0m\u001b[1;36m0\u001b[0m\u001b[1;33m]\u001b[0m\u001b[1;33m.\u001b[0m\u001b[0mappend\u001b[0m\u001b[1;33m(\u001b[0m\u001b[0mindexes\u001b[0m\u001b[1;33m[\u001b[0m\u001b[1;36m1\u001b[0m\u001b[1;33m:\u001b[0m\u001b[1;33m]\u001b[0m\u001b[1;33m)\u001b[0m\u001b[1;33m\u001b[0m\u001b[0m\n\u001b[0m\u001b[0;32m    515\u001b[0m \u001b[1;33m\u001b[0m\u001b[0m\n\u001b[0;32m    516\u001b[0m \u001b[1;33m\u001b[0m\u001b[0m\n",
      "\u001b[1;32mD:\\AnacondaIDE\\lib\\site-packages\\pandas\\core\\indexes\\base.py\u001b[0m in \u001b[0;36mappend\u001b[1;34m(self, other)\u001b[0m\n\u001b[0;32m   1689\u001b[0m \u001b[1;33m\u001b[0m\u001b[0m\n\u001b[0;32m   1690\u001b[0m         \u001b[1;32mif\u001b[0m \u001b[0mlen\u001b[0m\u001b[1;33m(\u001b[0m\u001b[0mtyps\u001b[0m\u001b[1;33m)\u001b[0m \u001b[1;33m==\u001b[0m \u001b[1;36m1\u001b[0m\u001b[1;33m:\u001b[0m\u001b[1;33m\u001b[0m\u001b[0m\n\u001b[1;32m-> 1691\u001b[1;33m             \u001b[1;32mreturn\u001b[0m \u001b[0mself\u001b[0m\u001b[1;33m.\u001b[0m\u001b[0m_append_same_dtype\u001b[0m\u001b[1;33m(\u001b[0m\u001b[0mto_concat\u001b[0m\u001b[1;33m,\u001b[0m \u001b[0mname\u001b[0m\u001b[1;33m=\u001b[0m\u001b[0mname\u001b[0m\u001b[1;33m)\u001b[0m\u001b[1;33m\u001b[0m\u001b[0m\n\u001b[0m\u001b[0;32m   1692\u001b[0m         \u001b[1;32mreturn\u001b[0m \u001b[0m_concat\u001b[0m\u001b[1;33m.\u001b[0m\u001b[0m_concat_index_asobject\u001b[0m\u001b[1;33m(\u001b[0m\u001b[0mto_concat\u001b[0m\u001b[1;33m,\u001b[0m \u001b[0mname\u001b[0m\u001b[1;33m=\u001b[0m\u001b[0mname\u001b[0m\u001b[1;33m)\u001b[0m\u001b[1;33m\u001b[0m\u001b[0m\n\u001b[0;32m   1693\u001b[0m \u001b[1;33m\u001b[0m\u001b[0m\n",
      "\u001b[1;32mD:\\AnacondaIDE\\lib\\site-packages\\pandas\\core\\indexes\\base.py\u001b[0m in \u001b[0;36m_append_same_dtype\u001b[1;34m(self, to_concat, name)\u001b[0m\n\u001b[0;32m   1697\u001b[0m         \"\"\"\n\u001b[0;32m   1698\u001b[0m         \u001b[1;31m# must be overrided in specific classes\u001b[0m\u001b[1;33m\u001b[0m\u001b[1;33m\u001b[0m\u001b[0m\n\u001b[1;32m-> 1699\u001b[1;33m         \u001b[1;32mreturn\u001b[0m \u001b[0m_concat\u001b[0m\u001b[1;33m.\u001b[0m\u001b[0m_concat_index_asobject\u001b[0m\u001b[1;33m(\u001b[0m\u001b[0mto_concat\u001b[0m\u001b[1;33m,\u001b[0m \u001b[0mname\u001b[0m\u001b[1;33m)\u001b[0m\u001b[1;33m\u001b[0m\u001b[0m\n\u001b[0m\u001b[0;32m   1700\u001b[0m \u001b[1;33m\u001b[0m\u001b[0m\n\u001b[0;32m   1701\u001b[0m     _index_shared_docs['take'] = \"\"\"\n",
      "\u001b[1;32mD:\\AnacondaIDE\\lib\\site-packages\\pandas\\core\\dtypes\\concat.py\u001b[0m in \u001b[0;36m_concat_index_asobject\u001b[1;34m(to_concat, name)\u001b[0m\n\u001b[0;32m    420\u001b[0m     to_concat = [x._values if isinstance(x, Index) else x\n\u001b[0;32m    421\u001b[0m                  for x in to_concat]\n\u001b[1;32m--> 422\u001b[1;33m     \u001b[1;32mreturn\u001b[0m \u001b[0mself\u001b[0m\u001b[1;33m.\u001b[0m\u001b[0m_shallow_copy_with_infer\u001b[0m\u001b[1;33m(\u001b[0m\u001b[0mnp\u001b[0m\u001b[1;33m.\u001b[0m\u001b[0mconcatenate\u001b[0m\u001b[1;33m(\u001b[0m\u001b[0mto_concat\u001b[0m\u001b[1;33m)\u001b[0m\u001b[1;33m,\u001b[0m \u001b[1;33m**\u001b[0m\u001b[0mattribs\u001b[0m\u001b[1;33m)\u001b[0m\u001b[1;33m\u001b[0m\u001b[0m\n\u001b[0m\u001b[0;32m    423\u001b[0m \u001b[1;33m\u001b[0m\u001b[0m\n\u001b[0;32m    424\u001b[0m \u001b[1;33m\u001b[0m\u001b[0m\n",
      "\u001b[1;31mMemoryError\u001b[0m: "
     ]
    }
   ],
   "source": [
    "from statsmodels.tsa.statespace.sarimax import SARIMAX\n",
    "\n",
    "#exog_test = exog_test2\n",
    "\n",
    "predictions = {'201610' : pd.DataFrame(columns = ['201610'], dtype = np.float32),\n",
    "                '201611' : pd.DataFrame(columns = ['201611'], dtype = np.float32),\n",
    "                '201612' : pd.DataFrame(columns = ['201612'], dtype = np.float32),\n",
    "                '201710' : pd.DataFrame(columns = ['201710'], dtype = np.float32),\n",
    "                '201711' : pd.DataFrame(columns = ['201711'], dtype = np.float32),\n",
    "                '201712' : pd.DataFrame(columns = ['201712'], dtype = np.float32)\n",
    "               }\n",
    "\n",
    "\n",
    "def get_predictions(rows, start, end):\n",
    "    global predictions\n",
    "    \n",
    "    prediction = sarimax_result.get_prediction(start = start, end = end, dynamic = True, full_results = True, exog = rows)\n",
    "    \n",
    "    year_of_prediction = end.year\n",
    "    month_of_prediction = end.month\n",
    "\n",
    "    prediction_column = str(year_of_prediction) + str(month_of_prediction)\n",
    "\n",
    "    df = pd.DataFrame(prediction.predicted_mean[0], index = range(0,1), columns = [prediction_column])\n",
    "    \n",
    "    predictions[prediction_column] = predictions[prediction_column].append(df)\n",
    "\n",
    "#get_predictions end\n",
    "\n",
    "\n",
    "for endog, exog in endog_exog_tuples:\n",
    "# def sarimax_model_func(endog, exog):\n",
    "    sarimax_model = SARIMAX(endog = endog,\n",
    "                                    order = (0, 0, 0),\n",
    "                                    exog = exog,\n",
    "                                    seasonal_order=(1, 0, 0, 12),\n",
    "                                    enforce_stationarity=False,\n",
    "                                    enforce_invertibility=False)\n",
    "\n",
    "    sarimax_result = sarimax_model.fit()\n",
    "    \n",
    "    start_date = endog.iloc[len(endog) - 1].name\n",
    "    end_date = endog.iloc[len(endog) - 1].name + timedelta(days = 30)\n",
    "    \n",
    "    delta = end_date - start_date\n",
    "    \n",
    "    for x in range(0, len(exog_test)):\n",
    "        record = exog_test.iloc[x : x + 1]\n",
    "        \n",
    "        record = record.append([record] * (delta.days - 1))\n",
    "        record.index = range(0, delta.days)\n",
    "\n",
    "        datelist = pd.date_range(start_date + timedelta(days = 1), periods = delta.days, freq = 'D')\n",
    "        transactiondate = pd.DataFrame(datelist, columns = ['transactiondate'])\n",
    "\n",
    "        record.index = datelist\n",
    "        record.index.name = 'transactiondate'\n",
    "        \n",
    "        prediction = get_predictions(record, start_date, end_date)\n",
    "\n",
    "#         datelist2 = pd.date_range(start_date + timedelta(days = 1), periods = delta.days).tolist()\n",
    "\n",
    "#         transactiondate2 = pd.DataFrame(datelist2, columns = ['transactiondate'])\n",
    "#         prediction_df = pd.DataFrame(prediction.predicted_mean[1:], columns = ['prediction'])\n",
    "\n",
    "#         prediction_df.index = range(0, len(prediction_df))\n",
    "\n",
    "#         prediction_df = pd.concat([prediction_df, transactiondate2], axis = 1)\n",
    "\n",
    "#         prediction_df.index = prediction_df.transactiondate\n",
    "#         prediction_df.drop(['transactiondate'], axis = 1, inplace = True)\n",
    "        \n",
    "#Parallel(n_jobs=num_cores)(delayed(sarimax_model_func)(endog, exog) for endog, exog in endog_exog_tuples)     "
   ]
  },
  {
   "cell_type": "code",
   "execution_count": 83,
   "metadata": {},
   "outputs": [
    {
     "data": {
      "text/plain": [
       "{'201610':      201610\n",
       " 0   0.01214\n",
       " 0   0.01214\n",
       " 0   0.01214\n",
       " 0   0.01214\n",
       " 0   0.01214\n",
       " 0   0.01214\n",
       " 0   0.01214\n",
       " 0   0.01214\n",
       " 0   0.01214\n",
       " 0   0.01214\n",
       " 0   0.01214\n",
       " 0   0.01214\n",
       " 0   0.01214\n",
       " 0   0.01214\n",
       " 0   0.01214\n",
       " 0   0.01214\n",
       " 0   0.01214\n",
       " 0   0.01214\n",
       " 0   0.01214\n",
       " 0   0.01214\n",
       " 0   0.01214\n",
       " 0   0.01214\n",
       " 0   0.01214\n",
       " 0   0.01214\n",
       " 0   0.01214\n",
       " 0   0.01214\n",
       " 0   0.01214\n",
       " 0   0.01214\n",
       " 0   0.01214\n",
       " 0   0.01214\n",
       " ..      ...\n",
       " 0   0.01214\n",
       " 0   0.01214\n",
       " 0   0.01214\n",
       " 0   0.01214\n",
       " 0   0.01214\n",
       " 0   0.01214\n",
       " 0   0.01214\n",
       " 0   0.01214\n",
       " 0   0.01214\n",
       " 0   0.01214\n",
       " 0   0.01214\n",
       " 0   0.01214\n",
       " 0   0.01214\n",
       " 0   0.01214\n",
       " 0   0.01214\n",
       " 0   0.01214\n",
       " 0   0.01214\n",
       " 0   0.01214\n",
       " 0   0.01214\n",
       " 0   0.01214\n",
       " 0   0.01214\n",
       " 0   0.01214\n",
       " 0   0.01214\n",
       " 0   0.01214\n",
       " 0   0.01214\n",
       " 0   0.01214\n",
       " 0   0.01214\n",
       " 0   0.01214\n",
       " 0   0.01214\n",
       " 0   0.01214\n",
       " \n",
       " [2895067 rows x 1 columns], '201611':       201611\n",
       " 0   0.008839\n",
       " 0   0.008839\n",
       " 0   0.008839\n",
       " 0   0.008839\n",
       " 0   0.008839\n",
       " 0   0.008839\n",
       " 0   0.008839\n",
       " 0   0.008839\n",
       " 0   0.008839\n",
       " 0   0.008839\n",
       " 0   0.008839\n",
       " 0   0.008839\n",
       " 0   0.008839\n",
       " 0   0.008839\n",
       " 0   0.008839\n",
       " 0   0.008839\n",
       " 0   0.008839\n",
       " 0   0.008839\n",
       " 0   0.008839\n",
       " 0   0.008839\n",
       " 0   0.008839\n",
       " 0   0.008839\n",
       " 0   0.008839\n",
       " 0   0.008839\n",
       " 0   0.008839\n",
       " 0   0.008839\n",
       " 0   0.008839\n",
       " 0   0.008839\n",
       " 0   0.008839\n",
       " 0   0.008839\n",
       " ..       ...\n",
       " 0   0.008839\n",
       " 0   0.008839\n",
       " 0   0.008839\n",
       " 0   0.008839\n",
       " 0   0.008839\n",
       " 0   0.008839\n",
       " 0   0.008839\n",
       " 0   0.008839\n",
       " 0   0.008839\n",
       " 0   0.008839\n",
       " 0   0.008839\n",
       " 0   0.008839\n",
       " 0   0.008839\n",
       " 0   0.008839\n",
       " 0   0.008839\n",
       " 0   0.008839\n",
       " 0   0.008839\n",
       " 0   0.008839\n",
       " 0   0.008839\n",
       " 0   0.008839\n",
       " 0   0.008839\n",
       " 0   0.008839\n",
       " 0   0.008839\n",
       " 0   0.008839\n",
       " 0   0.008839\n",
       " 0   0.008839\n",
       " 0   0.008839\n",
       " 0   0.008839\n",
       " 0   0.008839\n",
       " 0   0.008839\n",
       " \n",
       " [2685298 rows x 1 columns], '201612': Empty DataFrame\n",
       " Columns: [201612]\n",
       " Index: [], '201710': Empty DataFrame\n",
       " Columns: [201710]\n",
       " Index: [], '201711': Empty DataFrame\n",
       " Columns: [201711]\n",
       " Index: [], '201712': Empty DataFrame\n",
       " Columns: [201712]\n",
       " Index: []}"
      ]
     },
     "execution_count": 83,
     "metadata": {},
     "output_type": "execute_result"
    }
   ],
   "source": [
    "predictions"
   ]
  },
  {
   "cell_type": "code",
   "execution_count": 114,
   "metadata": {},
   "outputs": [
    {
     "name": "stdout",
     "output_type": "stream",
     "text": [
      "                            Statespace Model Results                            \n",
      "================================================================================\n",
      "Dep. Variable:                 logerror   No. Observations:                  274\n",
      "Model:             SARIMAX(1, 0, 0, 12)   Log Likelihood                 668.796\n",
      "Date:                  Tue, 10 Oct 2017   AIC                          -1177.592\n",
      "Time:                          23:47:24   BIC                           -888.542\n",
      "Sample:                      01-01-2016   HQIC                         -1061.575\n",
      "                           - 09-30-2016                                         \n",
      "Covariance Type:                    opg                                         \n",
      "====================================================================================================\n",
      "                                       coef    std err          z      P>|z|      [0.025      0.975]\n",
      "----------------------------------------------------------------------------------------------------\n",
      "airconditioningtypeid             1.944e-09        nan        nan        nan         nan         nan\n",
      "architecturalstyletypeid         -6.726e-07        nan        nan        nan         nan         nan\n",
      "basementsqft                      -9.97e-10   3.51e-23  -2.84e+13      0.000   -9.97e-10   -9.97e-10\n",
      "bedroomcnt                        1.689e-09        nan        nan        nan         nan         nan\n",
      "buildingclasstypeid              -8.002e-13        nan        nan        nan         nan         nan\n",
      "buildingqualitytypeid             5.581e-09   9.41e-26   5.93e+16      0.000    5.58e-09    5.58e-09\n",
      "calculatedbathnbr                 9.612e-10   2.39e-25   4.03e+15      0.000    9.61e-10    9.61e-10\n",
      "decktypeid                        6.107e-09   6.06e-25   1.01e+16      0.000    6.11e-09    6.11e-09\n",
      "finishedfloor1squarefeet          7.113e-07    2.5e-23   2.84e+16      0.000    7.11e-07    7.11e-07\n",
      "calculatedfinishedsquarefeet      4.449e-08   1.95e-22   2.29e+14      0.000    4.45e-08    4.45e-08\n",
      "finishedsquarefeet12              -1.42e-06   2.09e-23  -6.81e+16      0.000   -1.42e-06   -1.42e-06\n",
      "finishedsquarefeet13             -8.597e-11   1.14e-26  -7.53e+15      0.000    -8.6e-11    -8.6e-11\n",
      "finishedsquarefeet15              1.388e-06   2.16e-22   6.43e+15      0.000    1.39e-06    1.39e-06\n",
      "finishedsquarefeet6               7.912e-08   2.19e-25   3.62e+17      0.000    7.91e-08    7.91e-08\n",
      "fips                             -3.084e-09   3.36e-25  -9.18e+15      0.000   -3.08e-09   -3.08e-09\n",
      "fireplacecnt                      1.179e-08   2.91e-27   4.06e+18      0.000    1.18e-08    1.18e-08\n",
      "fullbathcnt                      -7.904e-09   2.33e-25  -3.39e+16      0.000    -7.9e-09    -7.9e-09\n",
      "garagecarcnt                     -3.034e-09   5.95e-26   -5.1e+16      0.000   -3.03e-09   -3.03e-09\n",
      "garagetotalsqft                  -1.061e-06    1.4e-24  -7.56e+17      0.000   -1.06e-06   -1.06e-06\n",
      "hashottuborspa                   -6.609e-11   2.61e-27  -2.54e+16      0.000   -6.61e-11   -6.61e-11\n",
      "heatingorsystemtypeid             6.715e-09   3.83e-25   1.76e+16      0.000    6.72e-09    6.72e-09\n",
      "latitude                          3.461e-06   4.37e-21   7.93e+14      0.000    3.46e-06    3.46e-06\n",
      "longitude                        -1.967e-06   5.75e-21  -3.42e+14      0.000   -1.97e-06   -1.97e-06\n",
      "lotsizesquarefeet                 6.121e-06    7.9e-21   7.75e+14      0.000    6.12e-06    6.12e-06\n",
      "poolcnt                           -2.21e-09   1.23e-26   -1.8e+17      0.000   -2.21e-09   -2.21e-09\n",
      "poolsizesum                      -1.056e-07   1.41e-24  -7.49e+16      0.000   -1.06e-07   -1.06e-07\n",
      "pooltypeid2                       1.107e-10    1.3e-27   8.52e+16      0.000    1.11e-10    1.11e-10\n",
      "pooltypeid7                      -2.321e-09   1.36e-26  -1.71e+17      0.000   -2.32e-09   -2.32e-09\n",
      "propertylandusetypeid            -1.308e-08   8.05e-25  -1.63e+16      0.000   -1.31e-08   -1.31e-08\n",
      "rawcensustractandblock           -1.098e-07   3.17e-21  -3.47e+13      0.000    -1.1e-07    -1.1e-07\n",
      "regionidcity                     -2.571e-08   6.98e-22  -3.68e+13      0.000   -2.57e-08   -2.57e-08\n",
      "regionidcounty                      1.4e-06   2.91e-23   4.81e+16      0.000     1.4e-06     1.4e-06\n",
      "regionidneighborhood             -3.036e-08   9.44e-22  -3.21e+13      0.000   -3.04e-08   -3.04e-08\n",
      "regionidzip                      -1.913e-07   8.91e-24  -2.15e+16      0.000   -1.91e-07   -1.91e-07\n",
      "roomcnt                          -1.645e-08   1.64e-26     -1e+18      0.000   -1.64e-08   -1.64e-08\n",
      "storytypeid                       7.299e-12   1.33e-28   5.51e+16      0.000     7.3e-12     7.3e-12\n",
      "threequarterbathnbr              -1.659e-09   1.16e-26  -1.43e+17      0.000   -1.66e-09   -1.66e-09\n",
      "typeconstructiontypeid            -1.67e-10   2.49e-27  -6.69e+16      0.000   -1.67e-10   -1.67e-10\n",
      "unitcnt                           1.078e-09   2.03e-25   5.32e+15      0.000    1.08e-09    1.08e-09\n",
      "yardbuildingsqft17               -4.641e-07   3.23e-24  -1.43e+17      0.000   -4.64e-07   -4.64e-07\n",
      "yardbuildingsqft26               -1.475e-10   1.17e-26  -1.26e+16      0.000   -1.48e-10   -1.48e-10\n",
      "yearbuilt                        -4.299e-08   3.67e-24  -1.17e+16      0.000    -4.3e-08    -4.3e-08\n",
      "numberofstories                  -4.351e-09   8.18e-27  -5.32e+17      0.000   -4.35e-09   -4.35e-09\n",
      "fireplaceflag                     3.131e-10   2.91e-27   1.07e+17      0.000    3.13e-10    3.13e-10\n",
      "structuretaxvaluedollarcnt       -4.709e-08   4.28e-20   -1.1e+12      0.000   -4.71e-08   -4.71e-08\n",
      "taxvaluedollarcnt                -2.915e-08    6.7e-20  -4.35e+11      0.000   -2.91e-08   -2.91e-08\n",
      "assessmentyear                    1.534e-10   3.51e-25   4.38e+14      0.000    1.53e-10    1.53e-10\n",
      "landtaxvaluedollarcnt             1.793e-08   2.42e-20   7.42e+11      0.000    1.79e-08    1.79e-08\n",
      "taxamount                         1.309e-06   9.97e-22   1.31e+15      0.000    1.31e-06    1.31e-06\n",
      "taxdelinquencyflag                3.493e-11   8.64e-28   4.04e+16      0.000    3.49e-11    3.49e-11\n",
      "taxdelinquencyyear                4.545e-10   1.15e-26   3.94e+16      0.000    4.55e-10    4.55e-10\n",
      "censustractandblock               2.571e-15   3.24e-15      0.794      0.427   -3.77e-15    8.92e-15\n",
      "house_age                         3.014e-08   3.81e-24   7.92e+15      0.000    3.01e-08    3.01e-08\n",
      "N-LivingAreaError                -5.566e-10   6.64e-26  -8.38e+15      0.000   -5.57e-10   -5.57e-10\n",
      "N-LivingAreaProp                 -8.239e-10   2.48e-26  -3.32e+16      0.000   -8.24e-10   -8.24e-10\n",
      "N-ExtraSpace                     -6.182e-06   7.96e-21  -7.76e+14      0.000   -6.18e-06   -6.18e-06\n",
      "N-TotalRooms                      4.908e-10   3.97e-25   1.24e+15      0.000    4.91e-10    4.91e-10\n",
      "N-ExtraRooms                     -1.694e-08   4.16e-25  -4.07e+16      0.000   -1.69e-08   -1.69e-08\n",
      "N-ValueProp                       4.427e-09   3.88e-26   1.14e+17      0.000    4.43e-09    4.43e-09\n",
      "N-GarPoolAC                        1.24e-10    2.9e-27   4.28e+16      0.000    1.24e-10    1.24e-10\n",
      "N-location                        1.534e-06   1.79e-21   8.56e+14      0.000    1.53e-06    1.53e-06\n",
      "N-location-2                       -7.8e-12   2.44e-17   -3.2e+05      0.000    -7.8e-12    -7.8e-12\n",
      "N-location-2round                 7.801e-12   2.43e-17   3.21e+05      0.000     7.8e-12     7.8e-12\n",
      "N-latitude-round                 -4.951e-06    4.1e-21  -1.21e+15      0.000   -4.95e-06   -4.95e-06\n",
      "N-longitude-round                 3.786e-07   5.75e-21   6.59e+13      0.000    3.79e-07    3.79e-07\n",
      "N-ValueRatio                      -4.57e-08   6.67e-25  -6.85e+16      0.000   -4.57e-08   -4.57e-08\n",
      "N-TaxScore                        2.169e-13   1.66e-15    130.939      0.000    2.14e-13     2.2e-13\n",
      "N-taxdelinquencyyear-2            3.844e-09   1.55e-25   2.47e+16      0.000    3.84e-09    3.84e-09\n",
      "N-taxdelinquencyyear-3           -2.023e-07   2.12e-24  -9.56e+16      0.000   -2.02e-07   -2.02e-07\n",
      "N-life                            7.004e-08   1.73e-24   4.04e+16      0.000       7e-08       7e-08\n",
      "N-zip_count                        3.59e-07   1.54e-23   2.33e+16      0.000    3.59e-07    3.59e-07\n",
      "N-city_count                     -4.037e-08    2.2e-20  -1.84e+12      0.000   -4.04e-08   -4.04e-08\n",
      "N-ACInd                           6.943e-11   5.38e-27   1.29e+16      0.000    6.94e-11    6.94e-11\n",
      "N-HeatInd                        -4.226e-11   1.55e-28  -2.73e+17      0.000   -4.23e-11   -4.23e-11\n",
      "N-structuretaxvaluedollarcnt-2   -2.482e-14   3.57e-14     -0.695      0.487   -9.48e-14    4.52e-14\n",
      "N-structuretaxvaluedollarcnt-3    6.301e-21   1.62e-20      0.389      0.697   -2.54e-20     3.8e-20\n",
      "N-Avg-structuretaxvaluedollarcnt  1.179e-07   1.64e-20   7.18e+12      0.000    1.18e-07    1.18e-07\n",
      "N-Dev-structuretaxvaluedollarcnt -3.618e-10    7.8e-26  -4.64e+15      0.000   -3.62e-10   -3.62e-10\n",
      "ar.S.L12                             0.0109   1.29e-27   8.45e+24      0.000       0.011       0.011\n",
      "sigma2                               0.0004    1.1e-23   3.23e+19      0.000       0.000       0.000\n",
      "===================================================================================\n",
      "Ljung-Box (Q):                       42.69   Jarque-Bera (JB):              2278.19\n",
      "Prob(Q):                              0.36   Prob(JB):                         0.00\n",
      "Heteroskedasticity (H):               0.54   Skew:                             0.42\n",
      "Prob(H) (two-sided):                  0.00   Kurtosis:                        17.42\n",
      "===================================================================================\n",
      "\n",
      "Warnings:\n",
      "[1] Covariance matrix calculated using the outer product of gradients (complex-step).\n",
      "[2] Covariance matrix is singular or near-singular, with condition number 1.12e+44. Standard errors may be unstable.\n"
     ]
    }
   ],
   "source": [
    "print(sarimax_result.summary())"
   ]
  },
  {
   "cell_type": "code",
   "execution_count": 115,
   "metadata": {},
   "outputs": [
    {
     "data": {
      "image/png": "[encoded data removed]",
      "text/plain": [
       "<matplotlib.figure.Figure at 0x2428463fa58>"
      ]
     },
     "metadata": {},
     "output_type": "display_data"
    }
   ],
   "source": [
    "sarimax_result.plot_diagnostics(figsize=(15, 12))\n",
    "plt.show()"
   ]
  },
  {
   "cell_type": "code",
   "execution_count": null,
   "metadata": {
    "collapsed": true
   },
   "outputs": [],
   "source": []
  },
  {
   "cell_type": "code",
   "execution_count": null,
   "metadata": {
    "collapsed": true
   },
   "outputs": [],
   "source": []
  },
  {
   "cell_type": "code",
   "execution_count": null,
   "metadata": {
    "collapsed": true
   },
   "outputs": [],
   "source": []
  },
  {
   "cell_type": "code",
   "execution_count": null,
   "metadata": {
    "collapsed": true
   },
   "outputs": [],
   "source": []
  },
  {
   "cell_type": "code",
   "execution_count": 118,
   "metadata": {},
   "outputs": [
    {
     "name": "stdout",
     "output_type": "stream",
     "text": [
      "<class 'pandas.core.frame.DataFrame'>\n",
      "DatetimeIndex: 274 entries, 2016-01-01 to 2016-09-30\n",
      "Freq: D\n",
      "Data columns (total 78 columns):\n",
      "airconditioningtypeid               274 non-null float32\n",
      "architecturalstyletypeid            274 non-null float32\n",
      "basementsqft                        274 non-null float32\n",
      "bedroomcnt                          274 non-null float32\n",
      "buildingclasstypeid                 274 non-null float32\n",
      "buildingqualitytypeid               274 non-null float32\n",
      "calculatedbathnbr                   274 non-null float32\n",
      "decktypeid                          274 non-null float32\n",
      "finishedfloor1squarefeet            274 non-null float32\n",
      "calculatedfinishedsquarefeet        274 non-null float32\n",
      "finishedsquarefeet12                274 non-null float32\n",
      "finishedsquarefeet13                274 non-null float32\n",
      "finishedsquarefeet15                274 non-null float32\n",
      "finishedsquarefeet6                 274 non-null float32\n",
      "fips                                274 non-null float32\n",
      "fireplacecnt                        274 non-null float32\n",
      "fullbathcnt                         274 non-null float32\n",
      "garagecarcnt                        274 non-null float32\n",
      "garagetotalsqft                     274 non-null float32\n",
      "hashottuborspa                      274 non-null float64\n",
      "heatingorsystemtypeid               274 non-null float32\n",
      "latitude                            274 non-null float32\n",
      "longitude                           274 non-null float32\n",
      "lotsizesquarefeet                   274 non-null float32\n",
      "poolcnt                             274 non-null float32\n",
      "poolsizesum                         274 non-null float32\n",
      "pooltypeid2                         274 non-null float32\n",
      "pooltypeid7                         274 non-null float32\n",
      "propertylandusetypeid               274 non-null float32\n",
      "rawcensustractandblock              274 non-null float32\n",
      "regionidcity                        274 non-null float32\n",
      "regionidcounty                      274 non-null float32\n",
      "regionidneighborhood                274 non-null float32\n",
      "regionidzip                         274 non-null float32\n",
      "roomcnt                             274 non-null float32\n",
      "storytypeid                         274 non-null float32\n",
      "threequarterbathnbr                 274 non-null float32\n",
      "typeconstructiontypeid              274 non-null float32\n",
      "unitcnt                             274 non-null float32\n",
      "yardbuildingsqft17                  274 non-null float32\n",
      "yardbuildingsqft26                  274 non-null float32\n",
      "yearbuilt                           274 non-null float32\n",
      "numberofstories                     274 non-null float32\n",
      "fireplaceflag                       274 non-null float64\n",
      "structuretaxvaluedollarcnt          274 non-null float32\n",
      "taxvaluedollarcnt                   274 non-null float32\n",
      "assessmentyear                      274 non-null float32\n",
      "landtaxvaluedollarcnt               274 non-null float32\n",
      "taxamount                           274 non-null float32\n",
      "taxdelinquencyflag                  274 non-null float64\n",
      "taxdelinquencyyear                  274 non-null float32\n",
      "censustractandblock                 274 non-null float32\n",
      "house_age                           274 non-null float32\n",
      "N-LivingAreaError                   274 non-null float32\n",
      "N-LivingAreaProp                    274 non-null float32\n",
      "N-ExtraSpace                        274 non-null float32\n",
      "N-TotalRooms                        274 non-null float32\n",
      "N-ExtraRooms                        274 non-null float32\n",
      "N-ValueProp                         274 non-null float32\n",
      "N-GarPoolAC                         274 non-null float64\n",
      "N-location                          274 non-null float32\n",
      "N-location-2                        274 non-null float32\n",
      "N-location-2round                   274 non-null float32\n",
      "N-latitude-round                    274 non-null float32\n",
      "N-longitude-round                   274 non-null float32\n",
      "N-ValueRatio                        274 non-null float32\n",
      "N-TaxScore                          274 non-null float32\n",
      "N-taxdelinquencyyear-2              274 non-null float32\n",
      "N-taxdelinquencyyear-3              274 non-null float32\n",
      "N-life                              274 non-null float32\n",
      "N-zip_count                         274 non-null float64\n",
      "N-city_count                        274 non-null float64\n",
      "N-ACInd                             274 non-null float64\n",
      "N-HeatInd                           274 non-null float64\n",
      "N-structuretaxvaluedollarcnt-2      274 non-null float32\n",
      "N-structuretaxvaluedollarcnt-3      274 non-null float32\n",
      "N-Avg-structuretaxvaluedollarcnt    274 non-null float64\n",
      "N-Dev-structuretaxvaluedollarcnt    274 non-null float64\n",
      "dtypes: float32(68), float64(10)\n",
      "memory usage: 96.3 KB\n"
     ]
    }
   ],
   "source": [
    "exog_test2.info()"
   ]
  },
  {
   "cell_type": "code",
   "execution_count": 122,
   "metadata": {
    "collapsed": true
   },
   "outputs": [],
   "source": [
    "exog_test2 = exog_sep16\n",
    "\n",
    "prediction_dates = [pd.to_datetime('2016-10-01'), pd.to_datetime('2016-11-01'), pd.to_datetime('2016-12-01'),\n",
    "                        pd.to_datetime('2017-10-01'), pd.to_datetime('2017-11-01'), pd.to_datetime('2017-12-01')]\n",
    "\n",
    "#exog_test_parcelids = exog_test2[['parcelid']]\n",
    "#exog_test2.drop(['parcelid'], axis = 1, inplace = True)\n",
    "\n",
    "\n"
   ]
  },
  {
   "cell_type": "code",
   "execution_count": 209,
   "metadata": {
    "collapsed": true,
    "scrolled": false
   },
   "outputs": [],
   "source": [
    "from datetime import datetime, timedelta\n",
    "\n",
    "def get_predictions(rows, start, end):\n",
    "    global predictions\n",
    "    \n",
    "    prediction = sarimax_result.get_prediction(start = start, end = end, dynamic = True, full_results = True, exog = rows)\n",
    "    \n",
    "    return prediction\n",
    "    \n",
    "    #year_of_prediction = date.year\n",
    "    #month_of_prediction = date.month\n",
    "\n",
    "    #prediction_column = str(year_of_prediction) + str(month_of_prediction)\n",
    "\n",
    "    #df = pd.DataFrame(prediction.predicted_mean[0], index = range(0,1), columns = [prediction_column])\n",
    "    \n",
    "    #predictions[prediction_column] = predictions[prediction_column].append(df)\n",
    "\n",
    "    \n",
    "    #inner loop end\n",
    "#get_predictions end\n",
    "\n",
    "for date in prediction_dates:\n",
    "    exog_test2 = exog_sep16\n",
    "    \n",
    "    #exog_test_with_dates = pd.DataFrame(date, index = range(0,len(exog_test2)), columns = ['transactiondate'])\n",
    "    \n",
    "    #exog_test2 = pd.concat([exog_test2, exog_test_with_dates], axis = 1)\n",
    "    \n",
    "    #exog_test2.index = exog_test2.transactiondate\n",
    "    #exog_test2.drop(['transactiondate'], axis = 1, inplace = True)\n",
    "    \n",
    "    ##for transactiondate, row in zip(exog_test2.transactiondate, exog_test2)\n",
    "\n",
    "start_date = pd.to_datetime('2016-09-30')\n",
    "end_date = pd.to_datetime('2016-10-31')\n",
    "\n",
    "delta = end_date - start_date\n",
    "\n",
    "record = exog_test2[0: 1]\n",
    "\n",
    "record = record.append([record]*(delta.days - 1))\n",
    "record.index = range(0, delta.days)\n",
    "\n",
    "datelist = pd.date_range(start_date + timedelta(days = 1), periods = delta.days, freq = 'D')\n",
    "transactiondate = pd.DataFrame(datelist, columns = ['transactiondate'])\n",
    "\n",
    "record.index = datelist\n",
    "record.index.name = 'transactiondate'\n",
    "\n",
    "record = record.groupby('transactiondate').mean()\n",
    "\n",
    "prediction = get_predictions(record, start_date, end_date)\n",
    "\n",
    "datelist2 = pd.date_range(start_date + timedelta(days = 1), periods = delta.days).tolist()\n",
    "\n",
    "transactiondate2 = pd.DataFrame(datelist2, columns = ['transactiondate'])\n",
    "prediction_df = pd.DataFrame(prediction.predicted_mean[1:], columns = ['prediction'])\n",
    "\n",
    "prediction_df.index = range(0, len(prediction_df))\n",
    "\n",
    "prediction_df = pd.concat([prediction_df, transactiondate2], axis = 1)\n",
    "\n",
    "prediction_df.index = prediction_df.transactiondate\n",
    "prediction_df.drop(['transactiondate'], axis = 1, inplace = True)\n",
    "\n",
    "#prediction.predicted_mean.shape, transactiondate2.shape\n",
    "#exog_test2.apply(lambda x: get_predictions(x, date), axis = 1)"
   ]
  },
  {
   "cell_type": "code",
   "execution_count": 141,
   "metadata": {},
   "outputs": [
    {
     "data": {
      "text/html": [
       "<div>\n",
       "<style>\n",
       "    .dataframe thead tr:only-child th {\n",
       "        text-align: right;\n",
       "    }\n",
       "\n",
       "    .dataframe thead th {\n",
       "        text-align: left;\n",
       "    }\n",
       "\n",
       "    .dataframe tbody tr th {\n",
       "        vertical-align: top;\n",
       "    }\n",
       "</style>\n",
       "<table border=\"1\" class=\"dataframe\">\n",
       "  <thead>\n",
       "    <tr style=\"text-align: right;\">\n",
       "      <th></th>\n",
       "      <th>airconditioningtypeid</th>\n",
       "      <th>architecturalstyletypeid</th>\n",
       "      <th>basementsqft</th>\n",
       "      <th>bedroomcnt</th>\n",
       "      <th>buildingclasstypeid</th>\n",
       "      <th>buildingqualitytypeid</th>\n",
       "      <th>calculatedbathnbr</th>\n",
       "      <th>decktypeid</th>\n",
       "      <th>finishedfloor1squarefeet</th>\n",
       "      <th>calculatedfinishedsquarefeet</th>\n",
       "      <th>...</th>\n",
       "      <th>N-taxdelinquencyyear-3</th>\n",
       "      <th>N-life</th>\n",
       "      <th>N-zip_count</th>\n",
       "      <th>N-city_count</th>\n",
       "      <th>N-ACInd</th>\n",
       "      <th>N-HeatInd</th>\n",
       "      <th>N-structuretaxvaluedollarcnt-2</th>\n",
       "      <th>N-structuretaxvaluedollarcnt-3</th>\n",
       "      <th>N-Avg-structuretaxvaluedollarcnt</th>\n",
       "      <th>N-Dev-structuretaxvaluedollarcnt</th>\n",
       "    </tr>\n",
       "    <tr>\n",
       "      <th>transactiondate</th>\n",
       "      <th></th>\n",
       "      <th></th>\n",
       "      <th></th>\n",
       "      <th></th>\n",
       "      <th></th>\n",
       "      <th></th>\n",
       "      <th></th>\n",
       "      <th></th>\n",
       "      <th></th>\n",
       "      <th></th>\n",
       "      <th></th>\n",
       "      <th></th>\n",
       "      <th></th>\n",
       "      <th></th>\n",
       "      <th></th>\n",
       "      <th></th>\n",
       "      <th></th>\n",
       "      <th></th>\n",
       "      <th></th>\n",
       "      <th></th>\n",
       "      <th></th>\n",
       "    </tr>\n",
       "  </thead>\n",
       "  <tbody>\n",
       "    <tr>\n",
       "      <th>2016-10-01</th>\n",
       "      <td>0.666667</td>\n",
       "      <td>0.0</td>\n",
       "      <td>0.0</td>\n",
       "      <td>3.0</td>\n",
       "      <td>0.0</td>\n",
       "      <td>2.666667</td>\n",
       "      <td>2.833333</td>\n",
       "      <td>0.0</td>\n",
       "      <td>0.0</td>\n",
       "      <td>2054.666748</td>\n",
       "      <td>...</td>\n",
       "      <td>0.0</td>\n",
       "      <td>0.0</td>\n",
       "      <td>24600.0</td>\n",
       "      <td>484754.0</td>\n",
       "      <td>1.0</td>\n",
       "      <td>1.0</td>\n",
       "      <td>4.631498e+10</td>\n",
       "      <td>1.455814e+16</td>\n",
       "      <td>174529.5</td>\n",
       "      <td>0.755907</td>\n",
       "    </tr>\n",
       "    <tr>\n",
       "      <th>2016-10-02</th>\n",
       "      <td>0.666667</td>\n",
       "      <td>0.0</td>\n",
       "      <td>0.0</td>\n",
       "      <td>3.0</td>\n",
       "      <td>0.0</td>\n",
       "      <td>2.666667</td>\n",
       "      <td>2.833333</td>\n",
       "      <td>0.0</td>\n",
       "      <td>0.0</td>\n",
       "      <td>2054.666748</td>\n",
       "      <td>...</td>\n",
       "      <td>0.0</td>\n",
       "      <td>0.0</td>\n",
       "      <td>24600.0</td>\n",
       "      <td>484754.0</td>\n",
       "      <td>1.0</td>\n",
       "      <td>1.0</td>\n",
       "      <td>4.631498e+10</td>\n",
       "      <td>1.455814e+16</td>\n",
       "      <td>174529.5</td>\n",
       "      <td>0.755907</td>\n",
       "    </tr>\n",
       "    <tr>\n",
       "      <th>2016-10-03</th>\n",
       "      <td>0.666667</td>\n",
       "      <td>0.0</td>\n",
       "      <td>0.0</td>\n",
       "      <td>3.0</td>\n",
       "      <td>0.0</td>\n",
       "      <td>2.666667</td>\n",
       "      <td>2.833333</td>\n",
       "      <td>0.0</td>\n",
       "      <td>0.0</td>\n",
       "      <td>2054.666748</td>\n",
       "      <td>...</td>\n",
       "      <td>0.0</td>\n",
       "      <td>0.0</td>\n",
       "      <td>24600.0</td>\n",
       "      <td>484754.0</td>\n",
       "      <td>1.0</td>\n",
       "      <td>1.0</td>\n",
       "      <td>4.631498e+10</td>\n",
       "      <td>1.455814e+16</td>\n",
       "      <td>174529.5</td>\n",
       "      <td>0.755907</td>\n",
       "    </tr>\n",
       "    <tr>\n",
       "      <th>2016-10-04</th>\n",
       "      <td>0.666667</td>\n",
       "      <td>0.0</td>\n",
       "      <td>0.0</td>\n",
       "      <td>3.0</td>\n",
       "      <td>0.0</td>\n",
       "      <td>2.666667</td>\n",
       "      <td>2.833333</td>\n",
       "      <td>0.0</td>\n",
       "      <td>0.0</td>\n",
       "      <td>2054.666748</td>\n",
       "      <td>...</td>\n",
       "      <td>0.0</td>\n",
       "      <td>0.0</td>\n",
       "      <td>24600.0</td>\n",
       "      <td>484754.0</td>\n",
       "      <td>1.0</td>\n",
       "      <td>1.0</td>\n",
       "      <td>4.631498e+10</td>\n",
       "      <td>1.455814e+16</td>\n",
       "      <td>174529.5</td>\n",
       "      <td>0.755907</td>\n",
       "    </tr>\n",
       "    <tr>\n",
       "      <th>2016-10-05</th>\n",
       "      <td>0.666667</td>\n",
       "      <td>0.0</td>\n",
       "      <td>0.0</td>\n",
       "      <td>3.0</td>\n",
       "      <td>0.0</td>\n",
       "      <td>2.666667</td>\n",
       "      <td>2.833333</td>\n",
       "      <td>0.0</td>\n",
       "      <td>0.0</td>\n",
       "      <td>2054.666748</td>\n",
       "      <td>...</td>\n",
       "      <td>0.0</td>\n",
       "      <td>0.0</td>\n",
       "      <td>24600.0</td>\n",
       "      <td>484754.0</td>\n",
       "      <td>1.0</td>\n",
       "      <td>1.0</td>\n",
       "      <td>4.631498e+10</td>\n",
       "      <td>1.455814e+16</td>\n",
       "      <td>174529.5</td>\n",
       "      <td>0.755907</td>\n",
       "    </tr>\n",
       "    <tr>\n",
       "      <th>2016-10-06</th>\n",
       "      <td>0.666667</td>\n",
       "      <td>0.0</td>\n",
       "      <td>0.0</td>\n",
       "      <td>3.0</td>\n",
       "      <td>0.0</td>\n",
       "      <td>2.666667</td>\n",
       "      <td>2.833333</td>\n",
       "      <td>0.0</td>\n",
       "      <td>0.0</td>\n",
       "      <td>2054.666748</td>\n",
       "      <td>...</td>\n",
       "      <td>0.0</td>\n",
       "      <td>0.0</td>\n",
       "      <td>24600.0</td>\n",
       "      <td>484754.0</td>\n",
       "      <td>1.0</td>\n",
       "      <td>1.0</td>\n",
       "      <td>4.631498e+10</td>\n",
       "      <td>1.455814e+16</td>\n",
       "      <td>174529.5</td>\n",
       "      <td>0.755907</td>\n",
       "    </tr>\n",
       "    <tr>\n",
       "      <th>2016-10-07</th>\n",
       "      <td>0.666667</td>\n",
       "      <td>0.0</td>\n",
       "      <td>0.0</td>\n",
       "      <td>3.0</td>\n",
       "      <td>0.0</td>\n",
       "      <td>2.666667</td>\n",
       "      <td>2.833333</td>\n",
       "      <td>0.0</td>\n",
       "      <td>0.0</td>\n",
       "      <td>2054.666748</td>\n",
       "      <td>...</td>\n",
       "      <td>0.0</td>\n",
       "      <td>0.0</td>\n",
       "      <td>24600.0</td>\n",
       "      <td>484754.0</td>\n",
       "      <td>1.0</td>\n",
       "      <td>1.0</td>\n",
       "      <td>4.631498e+10</td>\n",
       "      <td>1.455814e+16</td>\n",
       "      <td>174529.5</td>\n",
       "      <td>0.755907</td>\n",
       "    </tr>\n",
       "    <tr>\n",
       "      <th>2016-10-08</th>\n",
       "      <td>0.666667</td>\n",
       "      <td>0.0</td>\n",
       "      <td>0.0</td>\n",
       "      <td>3.0</td>\n",
       "      <td>0.0</td>\n",
       "      <td>2.666667</td>\n",
       "      <td>2.833333</td>\n",
       "      <td>0.0</td>\n",
       "      <td>0.0</td>\n",
       "      <td>2054.666748</td>\n",
       "      <td>...</td>\n",
       "      <td>0.0</td>\n",
       "      <td>0.0</td>\n",
       "      <td>24600.0</td>\n",
       "      <td>484754.0</td>\n",
       "      <td>1.0</td>\n",
       "      <td>1.0</td>\n",
       "      <td>4.631498e+10</td>\n",
       "      <td>1.455814e+16</td>\n",
       "      <td>174529.5</td>\n",
       "      <td>0.755907</td>\n",
       "    </tr>\n",
       "    <tr>\n",
       "      <th>2016-10-09</th>\n",
       "      <td>0.666667</td>\n",
       "      <td>0.0</td>\n",
       "      <td>0.0</td>\n",
       "      <td>3.0</td>\n",
       "      <td>0.0</td>\n",
       "      <td>2.666667</td>\n",
       "      <td>2.833333</td>\n",
       "      <td>0.0</td>\n",
       "      <td>0.0</td>\n",
       "      <td>2054.666748</td>\n",
       "      <td>...</td>\n",
       "      <td>0.0</td>\n",
       "      <td>0.0</td>\n",
       "      <td>24600.0</td>\n",
       "      <td>484754.0</td>\n",
       "      <td>1.0</td>\n",
       "      <td>1.0</td>\n",
       "      <td>4.631498e+10</td>\n",
       "      <td>1.455814e+16</td>\n",
       "      <td>174529.5</td>\n",
       "      <td>0.755907</td>\n",
       "    </tr>\n",
       "    <tr>\n",
       "      <th>2016-10-10</th>\n",
       "      <td>0.666667</td>\n",
       "      <td>0.0</td>\n",
       "      <td>0.0</td>\n",
       "      <td>3.0</td>\n",
       "      <td>0.0</td>\n",
       "      <td>2.666667</td>\n",
       "      <td>2.833333</td>\n",
       "      <td>0.0</td>\n",
       "      <td>0.0</td>\n",
       "      <td>2054.666748</td>\n",
       "      <td>...</td>\n",
       "      <td>0.0</td>\n",
       "      <td>0.0</td>\n",
       "      <td>24600.0</td>\n",
       "      <td>484754.0</td>\n",
       "      <td>1.0</td>\n",
       "      <td>1.0</td>\n",
       "      <td>4.631498e+10</td>\n",
       "      <td>1.455814e+16</td>\n",
       "      <td>174529.5</td>\n",
       "      <td>0.755907</td>\n",
       "    </tr>\n",
       "    <tr>\n",
       "      <th>2016-10-11</th>\n",
       "      <td>0.666667</td>\n",
       "      <td>0.0</td>\n",
       "      <td>0.0</td>\n",
       "      <td>3.0</td>\n",
       "      <td>0.0</td>\n",
       "      <td>2.666667</td>\n",
       "      <td>2.833333</td>\n",
       "      <td>0.0</td>\n",
       "      <td>0.0</td>\n",
       "      <td>2054.666748</td>\n",
       "      <td>...</td>\n",
       "      <td>0.0</td>\n",
       "      <td>0.0</td>\n",
       "      <td>24600.0</td>\n",
       "      <td>484754.0</td>\n",
       "      <td>1.0</td>\n",
       "      <td>1.0</td>\n",
       "      <td>4.631498e+10</td>\n",
       "      <td>1.455814e+16</td>\n",
       "      <td>174529.5</td>\n",
       "      <td>0.755907</td>\n",
       "    </tr>\n",
       "    <tr>\n",
       "      <th>2016-10-12</th>\n",
       "      <td>0.666667</td>\n",
       "      <td>0.0</td>\n",
       "      <td>0.0</td>\n",
       "      <td>3.0</td>\n",
       "      <td>0.0</td>\n",
       "      <td>2.666667</td>\n",
       "      <td>2.833333</td>\n",
       "      <td>0.0</td>\n",
       "      <td>0.0</td>\n",
       "      <td>2054.666748</td>\n",
       "      <td>...</td>\n",
       "      <td>0.0</td>\n",
       "      <td>0.0</td>\n",
       "      <td>24600.0</td>\n",
       "      <td>484754.0</td>\n",
       "      <td>1.0</td>\n",
       "      <td>1.0</td>\n",
       "      <td>4.631498e+10</td>\n",
       "      <td>1.455814e+16</td>\n",
       "      <td>174529.5</td>\n",
       "      <td>0.755907</td>\n",
       "    </tr>\n",
       "    <tr>\n",
       "      <th>2016-10-13</th>\n",
       "      <td>0.666667</td>\n",
       "      <td>0.0</td>\n",
       "      <td>0.0</td>\n",
       "      <td>3.0</td>\n",
       "      <td>0.0</td>\n",
       "      <td>2.666667</td>\n",
       "      <td>2.833333</td>\n",
       "      <td>0.0</td>\n",
       "      <td>0.0</td>\n",
       "      <td>2054.666748</td>\n",
       "      <td>...</td>\n",
       "      <td>0.0</td>\n",
       "      <td>0.0</td>\n",
       "      <td>24600.0</td>\n",
       "      <td>484754.0</td>\n",
       "      <td>1.0</td>\n",
       "      <td>1.0</td>\n",
       "      <td>4.631498e+10</td>\n",
       "      <td>1.455814e+16</td>\n",
       "      <td>174529.5</td>\n",
       "      <td>0.755907</td>\n",
       "    </tr>\n",
       "    <tr>\n",
       "      <th>2016-10-14</th>\n",
       "      <td>0.666667</td>\n",
       "      <td>0.0</td>\n",
       "      <td>0.0</td>\n",
       "      <td>3.0</td>\n",
       "      <td>0.0</td>\n",
       "      <td>2.666667</td>\n",
       "      <td>2.833333</td>\n",
       "      <td>0.0</td>\n",
       "      <td>0.0</td>\n",
       "      <td>2054.666748</td>\n",
       "      <td>...</td>\n",
       "      <td>0.0</td>\n",
       "      <td>0.0</td>\n",
       "      <td>24600.0</td>\n",
       "      <td>484754.0</td>\n",
       "      <td>1.0</td>\n",
       "      <td>1.0</td>\n",
       "      <td>4.631498e+10</td>\n",
       "      <td>1.455814e+16</td>\n",
       "      <td>174529.5</td>\n",
       "      <td>0.755907</td>\n",
       "    </tr>\n",
       "    <tr>\n",
       "      <th>2016-10-15</th>\n",
       "      <td>0.666667</td>\n",
       "      <td>0.0</td>\n",
       "      <td>0.0</td>\n",
       "      <td>3.0</td>\n",
       "      <td>0.0</td>\n",
       "      <td>2.666667</td>\n",
       "      <td>2.833333</td>\n",
       "      <td>0.0</td>\n",
       "      <td>0.0</td>\n",
       "      <td>2054.666748</td>\n",
       "      <td>...</td>\n",
       "      <td>0.0</td>\n",
       "      <td>0.0</td>\n",
       "      <td>24600.0</td>\n",
       "      <td>484754.0</td>\n",
       "      <td>1.0</td>\n",
       "      <td>1.0</td>\n",
       "      <td>4.631498e+10</td>\n",
       "      <td>1.455814e+16</td>\n",
       "      <td>174529.5</td>\n",
       "      <td>0.755907</td>\n",
       "    </tr>\n",
       "    <tr>\n",
       "      <th>2016-10-16</th>\n",
       "      <td>0.666667</td>\n",
       "      <td>0.0</td>\n",
       "      <td>0.0</td>\n",
       "      <td>3.0</td>\n",
       "      <td>0.0</td>\n",
       "      <td>2.666667</td>\n",
       "      <td>2.833333</td>\n",
       "      <td>0.0</td>\n",
       "      <td>0.0</td>\n",
       "      <td>2054.666748</td>\n",
       "      <td>...</td>\n",
       "      <td>0.0</td>\n",
       "      <td>0.0</td>\n",
       "      <td>24600.0</td>\n",
       "      <td>484754.0</td>\n",
       "      <td>1.0</td>\n",
       "      <td>1.0</td>\n",
       "      <td>4.631498e+10</td>\n",
       "      <td>1.455814e+16</td>\n",
       "      <td>174529.5</td>\n",
       "      <td>0.755907</td>\n",
       "    </tr>\n",
       "    <tr>\n",
       "      <th>2016-10-17</th>\n",
       "      <td>0.666667</td>\n",
       "      <td>0.0</td>\n",
       "      <td>0.0</td>\n",
       "      <td>3.0</td>\n",
       "      <td>0.0</td>\n",
       "      <td>2.666667</td>\n",
       "      <td>2.833333</td>\n",
       "      <td>0.0</td>\n",
       "      <td>0.0</td>\n",
       "      <td>2054.666748</td>\n",
       "      <td>...</td>\n",
       "      <td>0.0</td>\n",
       "      <td>0.0</td>\n",
       "      <td>24600.0</td>\n",
       "      <td>484754.0</td>\n",
       "      <td>1.0</td>\n",
       "      <td>1.0</td>\n",
       "      <td>4.631498e+10</td>\n",
       "      <td>1.455814e+16</td>\n",
       "      <td>174529.5</td>\n",
       "      <td>0.755907</td>\n",
       "    </tr>\n",
       "    <tr>\n",
       "      <th>2016-10-18</th>\n",
       "      <td>0.666667</td>\n",
       "      <td>0.0</td>\n",
       "      <td>0.0</td>\n",
       "      <td>3.0</td>\n",
       "      <td>0.0</td>\n",
       "      <td>2.666667</td>\n",
       "      <td>2.833333</td>\n",
       "      <td>0.0</td>\n",
       "      <td>0.0</td>\n",
       "      <td>2054.666748</td>\n",
       "      <td>...</td>\n",
       "      <td>0.0</td>\n",
       "      <td>0.0</td>\n",
       "      <td>24600.0</td>\n",
       "      <td>484754.0</td>\n",
       "      <td>1.0</td>\n",
       "      <td>1.0</td>\n",
       "      <td>4.631498e+10</td>\n",
       "      <td>1.455814e+16</td>\n",
       "      <td>174529.5</td>\n",
       "      <td>0.755907</td>\n",
       "    </tr>\n",
       "    <tr>\n",
       "      <th>2016-10-19</th>\n",
       "      <td>0.666667</td>\n",
       "      <td>0.0</td>\n",
       "      <td>0.0</td>\n",
       "      <td>3.0</td>\n",
       "      <td>0.0</td>\n",
       "      <td>2.666667</td>\n",
       "      <td>2.833333</td>\n",
       "      <td>0.0</td>\n",
       "      <td>0.0</td>\n",
       "      <td>2054.666748</td>\n",
       "      <td>...</td>\n",
       "      <td>0.0</td>\n",
       "      <td>0.0</td>\n",
       "      <td>24600.0</td>\n",
       "      <td>484754.0</td>\n",
       "      <td>1.0</td>\n",
       "      <td>1.0</td>\n",
       "      <td>4.631498e+10</td>\n",
       "      <td>1.455814e+16</td>\n",
       "      <td>174529.5</td>\n",
       "      <td>0.755907</td>\n",
       "    </tr>\n",
       "    <tr>\n",
       "      <th>2016-10-20</th>\n",
       "      <td>0.666667</td>\n",
       "      <td>0.0</td>\n",
       "      <td>0.0</td>\n",
       "      <td>3.0</td>\n",
       "      <td>0.0</td>\n",
       "      <td>2.666667</td>\n",
       "      <td>2.833333</td>\n",
       "      <td>0.0</td>\n",
       "      <td>0.0</td>\n",
       "      <td>2054.666748</td>\n",
       "      <td>...</td>\n",
       "      <td>0.0</td>\n",
       "      <td>0.0</td>\n",
       "      <td>24600.0</td>\n",
       "      <td>484754.0</td>\n",
       "      <td>1.0</td>\n",
       "      <td>1.0</td>\n",
       "      <td>4.631498e+10</td>\n",
       "      <td>1.455814e+16</td>\n",
       "      <td>174529.5</td>\n",
       "      <td>0.755907</td>\n",
       "    </tr>\n",
       "    <tr>\n",
       "      <th>2016-10-21</th>\n",
       "      <td>0.666667</td>\n",
       "      <td>0.0</td>\n",
       "      <td>0.0</td>\n",
       "      <td>3.0</td>\n",
       "      <td>0.0</td>\n",
       "      <td>2.666667</td>\n",
       "      <td>2.833333</td>\n",
       "      <td>0.0</td>\n",
       "      <td>0.0</td>\n",
       "      <td>2054.666748</td>\n",
       "      <td>...</td>\n",
       "      <td>0.0</td>\n",
       "      <td>0.0</td>\n",
       "      <td>24600.0</td>\n",
       "      <td>484754.0</td>\n",
       "      <td>1.0</td>\n",
       "      <td>1.0</td>\n",
       "      <td>4.631498e+10</td>\n",
       "      <td>1.455814e+16</td>\n",
       "      <td>174529.5</td>\n",
       "      <td>0.755907</td>\n",
       "    </tr>\n",
       "    <tr>\n",
       "      <th>2016-10-22</th>\n",
       "      <td>0.666667</td>\n",
       "      <td>0.0</td>\n",
       "      <td>0.0</td>\n",
       "      <td>3.0</td>\n",
       "      <td>0.0</td>\n",
       "      <td>2.666667</td>\n",
       "      <td>2.833333</td>\n",
       "      <td>0.0</td>\n",
       "      <td>0.0</td>\n",
       "      <td>2054.666748</td>\n",
       "      <td>...</td>\n",
       "      <td>0.0</td>\n",
       "      <td>0.0</td>\n",
       "      <td>24600.0</td>\n",
       "      <td>484754.0</td>\n",
       "      <td>1.0</td>\n",
       "      <td>1.0</td>\n",
       "      <td>4.631498e+10</td>\n",
       "      <td>1.455814e+16</td>\n",
       "      <td>174529.5</td>\n",
       "      <td>0.755907</td>\n",
       "    </tr>\n",
       "    <tr>\n",
       "      <th>2016-10-23</th>\n",
       "      <td>0.666667</td>\n",
       "      <td>0.0</td>\n",
       "      <td>0.0</td>\n",
       "      <td>3.0</td>\n",
       "      <td>0.0</td>\n",
       "      <td>2.666667</td>\n",
       "      <td>2.833333</td>\n",
       "      <td>0.0</td>\n",
       "      <td>0.0</td>\n",
       "      <td>2054.666748</td>\n",
       "      <td>...</td>\n",
       "      <td>0.0</td>\n",
       "      <td>0.0</td>\n",
       "      <td>24600.0</td>\n",
       "      <td>484754.0</td>\n",
       "      <td>1.0</td>\n",
       "      <td>1.0</td>\n",
       "      <td>4.631498e+10</td>\n",
       "      <td>1.455814e+16</td>\n",
       "      <td>174529.5</td>\n",
       "      <td>0.755907</td>\n",
       "    </tr>\n",
       "    <tr>\n",
       "      <th>2016-10-24</th>\n",
       "      <td>0.666667</td>\n",
       "      <td>0.0</td>\n",
       "      <td>0.0</td>\n",
       "      <td>3.0</td>\n",
       "      <td>0.0</td>\n",
       "      <td>2.666667</td>\n",
       "      <td>2.833333</td>\n",
       "      <td>0.0</td>\n",
       "      <td>0.0</td>\n",
       "      <td>2054.666748</td>\n",
       "      <td>...</td>\n",
       "      <td>0.0</td>\n",
       "      <td>0.0</td>\n",
       "      <td>24600.0</td>\n",
       "      <td>484754.0</td>\n",
       "      <td>1.0</td>\n",
       "      <td>1.0</td>\n",
       "      <td>4.631498e+10</td>\n",
       "      <td>1.455814e+16</td>\n",
       "      <td>174529.5</td>\n",
       "      <td>0.755907</td>\n",
       "    </tr>\n",
       "    <tr>\n",
       "      <th>2016-10-25</th>\n",
       "      <td>0.666667</td>\n",
       "      <td>0.0</td>\n",
       "      <td>0.0</td>\n",
       "      <td>3.0</td>\n",
       "      <td>0.0</td>\n",
       "      <td>2.666667</td>\n",
       "      <td>2.833333</td>\n",
       "      <td>0.0</td>\n",
       "      <td>0.0</td>\n",
       "      <td>2054.666748</td>\n",
       "      <td>...</td>\n",
       "      <td>0.0</td>\n",
       "      <td>0.0</td>\n",
       "      <td>24600.0</td>\n",
       "      <td>484754.0</td>\n",
       "      <td>1.0</td>\n",
       "      <td>1.0</td>\n",
       "      <td>4.631498e+10</td>\n",
       "      <td>1.455814e+16</td>\n",
       "      <td>174529.5</td>\n",
       "      <td>0.755907</td>\n",
       "    </tr>\n",
       "    <tr>\n",
       "      <th>2016-10-26</th>\n",
       "      <td>0.666667</td>\n",
       "      <td>0.0</td>\n",
       "      <td>0.0</td>\n",
       "      <td>3.0</td>\n",
       "      <td>0.0</td>\n",
       "      <td>2.666667</td>\n",
       "      <td>2.833333</td>\n",
       "      <td>0.0</td>\n",
       "      <td>0.0</td>\n",
       "      <td>2054.666748</td>\n",
       "      <td>...</td>\n",
       "      <td>0.0</td>\n",
       "      <td>0.0</td>\n",
       "      <td>24600.0</td>\n",
       "      <td>484754.0</td>\n",
       "      <td>1.0</td>\n",
       "      <td>1.0</td>\n",
       "      <td>4.631498e+10</td>\n",
       "      <td>1.455814e+16</td>\n",
       "      <td>174529.5</td>\n",
       "      <td>0.755907</td>\n",
       "    </tr>\n",
       "    <tr>\n",
       "      <th>2016-10-27</th>\n",
       "      <td>0.666667</td>\n",
       "      <td>0.0</td>\n",
       "      <td>0.0</td>\n",
       "      <td>3.0</td>\n",
       "      <td>0.0</td>\n",
       "      <td>2.666667</td>\n",
       "      <td>2.833333</td>\n",
       "      <td>0.0</td>\n",
       "      <td>0.0</td>\n",
       "      <td>2054.666748</td>\n",
       "      <td>...</td>\n",
       "      <td>0.0</td>\n",
       "      <td>0.0</td>\n",
       "      <td>24600.0</td>\n",
       "      <td>484754.0</td>\n",
       "      <td>1.0</td>\n",
       "      <td>1.0</td>\n",
       "      <td>4.631498e+10</td>\n",
       "      <td>1.455814e+16</td>\n",
       "      <td>174529.5</td>\n",
       "      <td>0.755907</td>\n",
       "    </tr>\n",
       "    <tr>\n",
       "      <th>2016-10-28</th>\n",
       "      <td>0.666667</td>\n",
       "      <td>0.0</td>\n",
       "      <td>0.0</td>\n",
       "      <td>3.0</td>\n",
       "      <td>0.0</td>\n",
       "      <td>2.666667</td>\n",
       "      <td>2.833333</td>\n",
       "      <td>0.0</td>\n",
       "      <td>0.0</td>\n",
       "      <td>2054.666748</td>\n",
       "      <td>...</td>\n",
       "      <td>0.0</td>\n",
       "      <td>0.0</td>\n",
       "      <td>24600.0</td>\n",
       "      <td>484754.0</td>\n",
       "      <td>1.0</td>\n",
       "      <td>1.0</td>\n",
       "      <td>4.631498e+10</td>\n",
       "      <td>1.455814e+16</td>\n",
       "      <td>174529.5</td>\n",
       "      <td>0.755907</td>\n",
       "    </tr>\n",
       "    <tr>\n",
       "      <th>2016-10-29</th>\n",
       "      <td>0.666667</td>\n",
       "      <td>0.0</td>\n",
       "      <td>0.0</td>\n",
       "      <td>3.0</td>\n",
       "      <td>0.0</td>\n",
       "      <td>2.666667</td>\n",
       "      <td>2.833333</td>\n",
       "      <td>0.0</td>\n",
       "      <td>0.0</td>\n",
       "      <td>2054.666748</td>\n",
       "      <td>...</td>\n",
       "      <td>0.0</td>\n",
       "      <td>0.0</td>\n",
       "      <td>24600.0</td>\n",
       "      <td>484754.0</td>\n",
       "      <td>1.0</td>\n",
       "      <td>1.0</td>\n",
       "      <td>4.631498e+10</td>\n",
       "      <td>1.455814e+16</td>\n",
       "      <td>174529.5</td>\n",
       "      <td>0.755907</td>\n",
       "    </tr>\n",
       "    <tr>\n",
       "      <th>2016-10-30</th>\n",
       "      <td>0.666667</td>\n",
       "      <td>0.0</td>\n",
       "      <td>0.0</td>\n",
       "      <td>3.0</td>\n",
       "      <td>0.0</td>\n",
       "      <td>2.666667</td>\n",
       "      <td>2.833333</td>\n",
       "      <td>0.0</td>\n",
       "      <td>0.0</td>\n",
       "      <td>2054.666748</td>\n",
       "      <td>...</td>\n",
       "      <td>0.0</td>\n",
       "      <td>0.0</td>\n",
       "      <td>24600.0</td>\n",
       "      <td>484754.0</td>\n",
       "      <td>1.0</td>\n",
       "      <td>1.0</td>\n",
       "      <td>4.631498e+10</td>\n",
       "      <td>1.455814e+16</td>\n",
       "      <td>174529.5</td>\n",
       "      <td>0.755907</td>\n",
       "    </tr>\n",
       "    <tr>\n",
       "      <th>2016-10-31</th>\n",
       "      <td>0.666667</td>\n",
       "      <td>0.0</td>\n",
       "      <td>0.0</td>\n",
       "      <td>3.0</td>\n",
       "      <td>0.0</td>\n",
       "      <td>2.666667</td>\n",
       "      <td>2.833333</td>\n",
       "      <td>0.0</td>\n",
       "      <td>0.0</td>\n",
       "      <td>2054.666748</td>\n",
       "      <td>...</td>\n",
       "      <td>0.0</td>\n",
       "      <td>0.0</td>\n",
       "      <td>24600.0</td>\n",
       "      <td>484754.0</td>\n",
       "      <td>1.0</td>\n",
       "      <td>1.0</td>\n",
       "      <td>4.631498e+10</td>\n",
       "      <td>1.455814e+16</td>\n",
       "      <td>174529.5</td>\n",
       "      <td>0.755907</td>\n",
       "    </tr>\n",
       "  </tbody>\n",
       "</table>\n",
       "<p>31 rows × 78 columns</p>\n",
       "</div>"
      ],
      "text/plain": [
       "                 airconditioningtypeid  architecturalstyletypeid  \\\n",
       "transactiondate                                                    \n",
       "2016-10-01                    0.666667                       0.0   \n",
       "2016-10-02                    0.666667                       0.0   \n",
       "2016-10-03                    0.666667                       0.0   \n",
       "2016-10-04                    0.666667                       0.0   \n",
       "2016-10-05                    0.666667                       0.0   \n",
       "2016-10-06                    0.666667                       0.0   \n",
       "2016-10-07                    0.666667                       0.0   \n",
       "2016-10-08                    0.666667                       0.0   \n",
       "2016-10-09                    0.666667                       0.0   \n",
       "2016-10-10                    0.666667                       0.0   \n",
       "2016-10-11                    0.666667                       0.0   \n",
       "2016-10-12                    0.666667                       0.0   \n",
       "2016-10-13                    0.666667                       0.0   \n",
       "2016-10-14                    0.666667                       0.0   \n",
       "2016-10-15                    0.666667                       0.0   \n",
       "2016-10-16                    0.666667                       0.0   \n",
       "2016-10-17                    0.666667                       0.0   \n",
       "2016-10-18                    0.666667                       0.0   \n",
       "2016-10-19                    0.666667                       0.0   \n",
       "2016-10-20                    0.666667                       0.0   \n",
       "2016-10-21                    0.666667                       0.0   \n",
       "2016-10-22                    0.666667                       0.0   \n",
       "2016-10-23                    0.666667                       0.0   \n",
       "2016-10-24                    0.666667                       0.0   \n",
       "2016-10-25                    0.666667                       0.0   \n",
       "2016-10-26                    0.666667                       0.0   \n",
       "2016-10-27                    0.666667                       0.0   \n",
       "2016-10-28                    0.666667                       0.0   \n",
       "2016-10-29                    0.666667                       0.0   \n",
       "2016-10-30                    0.666667                       0.0   \n",
       "2016-10-31                    0.666667                       0.0   \n",
       "\n",
       "                 basementsqft  bedroomcnt  buildingclasstypeid  \\\n",
       "transactiondate                                                  \n",
       "2016-10-01                0.0         3.0                  0.0   \n",
       "2016-10-02                0.0         3.0                  0.0   \n",
       "2016-10-03                0.0         3.0                  0.0   \n",
       "2016-10-04                0.0         3.0                  0.0   \n",
       "2016-10-05                0.0         3.0                  0.0   \n",
       "2016-10-06                0.0         3.0                  0.0   \n",
       "2016-10-07                0.0         3.0                  0.0   \n",
       "2016-10-08                0.0         3.0                  0.0   \n",
       "2016-10-09                0.0         3.0                  0.0   \n",
       "2016-10-10                0.0         3.0                  0.0   \n",
       "2016-10-11                0.0         3.0                  0.0   \n",
       "2016-10-12                0.0         3.0                  0.0   \n",
       "2016-10-13                0.0         3.0                  0.0   \n",
       "2016-10-14                0.0         3.0                  0.0   \n",
       "2016-10-15                0.0         3.0                  0.0   \n",
       "2016-10-16                0.0         3.0                  0.0   \n",
       "2016-10-17                0.0         3.0                  0.0   \n",
       "2016-10-18                0.0         3.0                  0.0   \n",
       "2016-10-19                0.0         3.0                  0.0   \n",
       "2016-10-20                0.0         3.0                  0.0   \n",
       "2016-10-21                0.0         3.0                  0.0   \n",
       "2016-10-22                0.0         3.0                  0.0   \n",
       "2016-10-23                0.0         3.0                  0.0   \n",
       "2016-10-24                0.0         3.0                  0.0   \n",
       "2016-10-25                0.0         3.0                  0.0   \n",
       "2016-10-26                0.0         3.0                  0.0   \n",
       "2016-10-27                0.0         3.0                  0.0   \n",
       "2016-10-28                0.0         3.0                  0.0   \n",
       "2016-10-29                0.0         3.0                  0.0   \n",
       "2016-10-30                0.0         3.0                  0.0   \n",
       "2016-10-31                0.0         3.0                  0.0   \n",
       "\n",
       "                 buildingqualitytypeid  calculatedbathnbr  decktypeid  \\\n",
       "transactiondate                                                         \n",
       "2016-10-01                    2.666667           2.833333         0.0   \n",
       "2016-10-02                    2.666667           2.833333         0.0   \n",
       "2016-10-03                    2.666667           2.833333         0.0   \n",
       "2016-10-04                    2.666667           2.833333         0.0   \n",
       "2016-10-05                    2.666667           2.833333         0.0   \n",
       "2016-10-06                    2.666667           2.833333         0.0   \n",
       "2016-10-07                    2.666667           2.833333         0.0   \n",
       "2016-10-08                    2.666667           2.833333         0.0   \n",
       "2016-10-09                    2.666667           2.833333         0.0   \n",
       "2016-10-10                    2.666667           2.833333         0.0   \n",
       "2016-10-11                    2.666667           2.833333         0.0   \n",
       "2016-10-12                    2.666667           2.833333         0.0   \n",
       "2016-10-13                    2.666667           2.833333         0.0   \n",
       "2016-10-14                    2.666667           2.833333         0.0   \n",
       "2016-10-15                    2.666667           2.833333         0.0   \n",
       "2016-10-16                    2.666667           2.833333         0.0   \n",
       "2016-10-17                    2.666667           2.833333         0.0   \n",
       "2016-10-18                    2.666667           2.833333         0.0   \n",
       "2016-10-19                    2.666667           2.833333         0.0   \n",
       "2016-10-20                    2.666667           2.833333         0.0   \n",
       "2016-10-21                    2.666667           2.833333         0.0   \n",
       "2016-10-22                    2.666667           2.833333         0.0   \n",
       "2016-10-23                    2.666667           2.833333         0.0   \n",
       "2016-10-24                    2.666667           2.833333         0.0   \n",
       "2016-10-25                    2.666667           2.833333         0.0   \n",
       "2016-10-26                    2.666667           2.833333         0.0   \n",
       "2016-10-27                    2.666667           2.833333         0.0   \n",
       "2016-10-28                    2.666667           2.833333         0.0   \n",
       "2016-10-29                    2.666667           2.833333         0.0   \n",
       "2016-10-30                    2.666667           2.833333         0.0   \n",
       "2016-10-31                    2.666667           2.833333         0.0   \n",
       "\n",
       "                 finishedfloor1squarefeet  calculatedfinishedsquarefeet  \\\n",
       "transactiondate                                                           \n",
       "2016-10-01                            0.0                   2054.666748   \n",
       "2016-10-02                            0.0                   2054.666748   \n",
       "2016-10-03                            0.0                   2054.666748   \n",
       "2016-10-04                            0.0                   2054.666748   \n",
       "2016-10-05                            0.0                   2054.666748   \n",
       "2016-10-06                            0.0                   2054.666748   \n",
       "2016-10-07                            0.0                   2054.666748   \n",
       "2016-10-08                            0.0                   2054.666748   \n",
       "2016-10-09                            0.0                   2054.666748   \n",
       "2016-10-10                            0.0                   2054.666748   \n",
       "2016-10-11                            0.0                   2054.666748   \n",
       "2016-10-12                            0.0                   2054.666748   \n",
       "2016-10-13                            0.0                   2054.666748   \n",
       "2016-10-14                            0.0                   2054.666748   \n",
       "2016-10-15                            0.0                   2054.666748   \n",
       "2016-10-16                            0.0                   2054.666748   \n",
       "2016-10-17                            0.0                   2054.666748   \n",
       "2016-10-18                            0.0                   2054.666748   \n",
       "2016-10-19                            0.0                   2054.666748   \n",
       "2016-10-20                            0.0                   2054.666748   \n",
       "2016-10-21                            0.0                   2054.666748   \n",
       "2016-10-22                            0.0                   2054.666748   \n",
       "2016-10-23                            0.0                   2054.666748   \n",
       "2016-10-24                            0.0                   2054.666748   \n",
       "2016-10-25                            0.0                   2054.666748   \n",
       "2016-10-26                            0.0                   2054.666748   \n",
       "2016-10-27                            0.0                   2054.666748   \n",
       "2016-10-28                            0.0                   2054.666748   \n",
       "2016-10-29                            0.0                   2054.666748   \n",
       "2016-10-30                            0.0                   2054.666748   \n",
       "2016-10-31                            0.0                   2054.666748   \n",
       "\n",
       "                               ...                 N-taxdelinquencyyear-3  \\\n",
       "transactiondate                ...                                          \n",
       "2016-10-01                     ...                                    0.0   \n",
       "2016-10-02                     ...                                    0.0   \n",
       "2016-10-03                     ...                                    0.0   \n",
       "2016-10-04                     ...                                    0.0   \n",
       "2016-10-05                     ...                                    0.0   \n",
       "2016-10-06                     ...                                    0.0   \n",
       "2016-10-07                     ...                                    0.0   \n",
       "2016-10-08                     ...                                    0.0   \n",
       "2016-10-09                     ...                                    0.0   \n",
       "2016-10-10                     ...                                    0.0   \n",
       "2016-10-11                     ...                                    0.0   \n",
       "2016-10-12                     ...                                    0.0   \n",
       "2016-10-13                     ...                                    0.0   \n",
       "2016-10-14                     ...                                    0.0   \n",
       "2016-10-15                     ...                                    0.0   \n",
       "2016-10-16                     ...                                    0.0   \n",
       "2016-10-17                     ...                                    0.0   \n",
       "2016-10-18                     ...                                    0.0   \n",
       "2016-10-19                     ...                                    0.0   \n",
       "2016-10-20                     ...                                    0.0   \n",
       "2016-10-21                     ...                                    0.0   \n",
       "2016-10-22                     ...                                    0.0   \n",
       "2016-10-23                     ...                                    0.0   \n",
       "2016-10-24                     ...                                    0.0   \n",
       "2016-10-25                     ...                                    0.0   \n",
       "2016-10-26                     ...                                    0.0   \n",
       "2016-10-27                     ...                                    0.0   \n",
       "2016-10-28                     ...                                    0.0   \n",
       "2016-10-29                     ...                                    0.0   \n",
       "2016-10-30                     ...                                    0.0   \n",
       "2016-10-31                     ...                                    0.0   \n",
       "\n",
       "                 N-life  N-zip_count  N-city_count  N-ACInd  N-HeatInd  \\\n",
       "transactiondate                                                          \n",
       "2016-10-01          0.0      24600.0      484754.0      1.0        1.0   \n",
       "2016-10-02          0.0      24600.0      484754.0      1.0        1.0   \n",
       "2016-10-03          0.0      24600.0      484754.0      1.0        1.0   \n",
       "2016-10-04          0.0      24600.0      484754.0      1.0        1.0   \n",
       "2016-10-05          0.0      24600.0      484754.0      1.0        1.0   \n",
       "2016-10-06          0.0      24600.0      484754.0      1.0        1.0   \n",
       "2016-10-07          0.0      24600.0      484754.0      1.0        1.0   \n",
       "2016-10-08          0.0      24600.0      484754.0      1.0        1.0   \n",
       "2016-10-09          0.0      24600.0      484754.0      1.0        1.0   \n",
       "2016-10-10          0.0      24600.0      484754.0      1.0        1.0   \n",
       "2016-10-11          0.0      24600.0      484754.0      1.0        1.0   \n",
       "2016-10-12          0.0      24600.0      484754.0      1.0        1.0   \n",
       "2016-10-13          0.0      24600.0      484754.0      1.0        1.0   \n",
       "2016-10-14          0.0      24600.0      484754.0      1.0        1.0   \n",
       "2016-10-15          0.0      24600.0      484754.0      1.0        1.0   \n",
       "2016-10-16          0.0      24600.0      484754.0      1.0        1.0   \n",
       "2016-10-17          0.0      24600.0      484754.0      1.0        1.0   \n",
       "2016-10-18          0.0      24600.0      484754.0      1.0        1.0   \n",
       "2016-10-19          0.0      24600.0      484754.0      1.0        1.0   \n",
       "2016-10-20          0.0      24600.0      484754.0      1.0        1.0   \n",
       "2016-10-21          0.0      24600.0      484754.0      1.0        1.0   \n",
       "2016-10-22          0.0      24600.0      484754.0      1.0        1.0   \n",
       "2016-10-23          0.0      24600.0      484754.0      1.0        1.0   \n",
       "2016-10-24          0.0      24600.0      484754.0      1.0        1.0   \n",
       "2016-10-25          0.0      24600.0      484754.0      1.0        1.0   \n",
       "2016-10-26          0.0      24600.0      484754.0      1.0        1.0   \n",
       "2016-10-27          0.0      24600.0      484754.0      1.0        1.0   \n",
       "2016-10-28          0.0      24600.0      484754.0      1.0        1.0   \n",
       "2016-10-29          0.0      24600.0      484754.0      1.0        1.0   \n",
       "2016-10-30          0.0      24600.0      484754.0      1.0        1.0   \n",
       "2016-10-31          0.0      24600.0      484754.0      1.0        1.0   \n",
       "\n",
       "                 N-structuretaxvaluedollarcnt-2  \\\n",
       "transactiondate                                   \n",
       "2016-10-01                         4.631498e+10   \n",
       "2016-10-02                         4.631498e+10   \n",
       "2016-10-03                         4.631498e+10   \n",
       "2016-10-04                         4.631498e+10   \n",
       "2016-10-05                         4.631498e+10   \n",
       "2016-10-06                         4.631498e+10   \n",
       "2016-10-07                         4.631498e+10   \n",
       "2016-10-08                         4.631498e+10   \n",
       "2016-10-09                         4.631498e+10   \n",
       "2016-10-10                         4.631498e+10   \n",
       "2016-10-11                         4.631498e+10   \n",
       "2016-10-12                         4.631498e+10   \n",
       "2016-10-13                         4.631498e+10   \n",
       "2016-10-14                         4.631498e+10   \n",
       "2016-10-15                         4.631498e+10   \n",
       "2016-10-16                         4.631498e+10   \n",
       "2016-10-17                         4.631498e+10   \n",
       "2016-10-18                         4.631498e+10   \n",
       "2016-10-19                         4.631498e+10   \n",
       "2016-10-20                         4.631498e+10   \n",
       "2016-10-21                         4.631498e+10   \n",
       "2016-10-22                         4.631498e+10   \n",
       "2016-10-23                         4.631498e+10   \n",
       "2016-10-24                         4.631498e+10   \n",
       "2016-10-25                         4.631498e+10   \n",
       "2016-10-26                         4.631498e+10   \n",
       "2016-10-27                         4.631498e+10   \n",
       "2016-10-28                         4.631498e+10   \n",
       "2016-10-29                         4.631498e+10   \n",
       "2016-10-30                         4.631498e+10   \n",
       "2016-10-31                         4.631498e+10   \n",
       "\n",
       "                 N-structuretaxvaluedollarcnt-3  \\\n",
       "transactiondate                                   \n",
       "2016-10-01                         1.455814e+16   \n",
       "2016-10-02                         1.455814e+16   \n",
       "2016-10-03                         1.455814e+16   \n",
       "2016-10-04                         1.455814e+16   \n",
       "2016-10-05                         1.455814e+16   \n",
       "2016-10-06                         1.455814e+16   \n",
       "2016-10-07                         1.455814e+16   \n",
       "2016-10-08                         1.455814e+16   \n",
       "2016-10-09                         1.455814e+16   \n",
       "2016-10-10                         1.455814e+16   \n",
       "2016-10-11                         1.455814e+16   \n",
       "2016-10-12                         1.455814e+16   \n",
       "2016-10-13                         1.455814e+16   \n",
       "2016-10-14                         1.455814e+16   \n",
       "2016-10-15                         1.455814e+16   \n",
       "2016-10-16                         1.455814e+16   \n",
       "2016-10-17                         1.455814e+16   \n",
       "2016-10-18                         1.455814e+16   \n",
       "2016-10-19                         1.455814e+16   \n",
       "2016-10-20                         1.455814e+16   \n",
       "2016-10-21                         1.455814e+16   \n",
       "2016-10-22                         1.455814e+16   \n",
       "2016-10-23                         1.455814e+16   \n",
       "2016-10-24                         1.455814e+16   \n",
       "2016-10-25                         1.455814e+16   \n",
       "2016-10-26                         1.455814e+16   \n",
       "2016-10-27                         1.455814e+16   \n",
       "2016-10-28                         1.455814e+16   \n",
       "2016-10-29                         1.455814e+16   \n",
       "2016-10-30                         1.455814e+16   \n",
       "2016-10-31                         1.455814e+16   \n",
       "\n",
       "                 N-Avg-structuretaxvaluedollarcnt  \\\n",
       "transactiondate                                     \n",
       "2016-10-01                               174529.5   \n",
       "2016-10-02                               174529.5   \n",
       "2016-10-03                               174529.5   \n",
       "2016-10-04                               174529.5   \n",
       "2016-10-05                               174529.5   \n",
       "2016-10-06                               174529.5   \n",
       "2016-10-07                               174529.5   \n",
       "2016-10-08                               174529.5   \n",
       "2016-10-09                               174529.5   \n",
       "2016-10-10                               174529.5   \n",
       "2016-10-11                               174529.5   \n",
       "2016-10-12                               174529.5   \n",
       "2016-10-13                               174529.5   \n",
       "2016-10-14                               174529.5   \n",
       "2016-10-15                               174529.5   \n",
       "2016-10-16                               174529.5   \n",
       "2016-10-17                               174529.5   \n",
       "2016-10-18                               174529.5   \n",
       "2016-10-19                               174529.5   \n",
       "2016-10-20                               174529.5   \n",
       "2016-10-21                               174529.5   \n",
       "2016-10-22                               174529.5   \n",
       "2016-10-23                               174529.5   \n",
       "2016-10-24                               174529.5   \n",
       "2016-10-25                               174529.5   \n",
       "2016-10-26                               174529.5   \n",
       "2016-10-27                               174529.5   \n",
       "2016-10-28                               174529.5   \n",
       "2016-10-29                               174529.5   \n",
       "2016-10-30                               174529.5   \n",
       "2016-10-31                               174529.5   \n",
       "\n",
       "                 N-Dev-structuretaxvaluedollarcnt  \n",
       "transactiondate                                    \n",
       "2016-10-01                               0.755907  \n",
       "2016-10-02                               0.755907  \n",
       "2016-10-03                               0.755907  \n",
       "2016-10-04                               0.755907  \n",
       "2016-10-05                               0.755907  \n",
       "2016-10-06                               0.755907  \n",
       "2016-10-07                               0.755907  \n",
       "2016-10-08                               0.755907  \n",
       "2016-10-09                               0.755907  \n",
       "2016-10-10                               0.755907  \n",
       "2016-10-11                               0.755907  \n",
       "2016-10-12                               0.755907  \n",
       "2016-10-13                               0.755907  \n",
       "2016-10-14                               0.755907  \n",
       "2016-10-15                               0.755907  \n",
       "2016-10-16                               0.755907  \n",
       "2016-10-17                               0.755907  \n",
       "2016-10-18                               0.755907  \n",
       "2016-10-19                               0.755907  \n",
       "2016-10-20                               0.755907  \n",
       "2016-10-21                               0.755907  \n",
       "2016-10-22                               0.755907  \n",
       "2016-10-23                               0.755907  \n",
       "2016-10-24                               0.755907  \n",
       "2016-10-25                               0.755907  \n",
       "2016-10-26                               0.755907  \n",
       "2016-10-27                               0.755907  \n",
       "2016-10-28                               0.755907  \n",
       "2016-10-29                               0.755907  \n",
       "2016-10-30                               0.755907  \n",
       "2016-10-31                               0.755907  \n",
       "\n",
       "[31 rows x 78 columns]"
      ]
     },
     "execution_count": 141,
     "metadata": {},
     "output_type": "execute_result"
    }
   ],
   "source": [
    "record"
   ]
  },
  {
   "cell_type": "code",
   "execution_count": 156,
   "metadata": {},
   "outputs": [
    {
     "data": {
      "image/png": "[encoded data removed]",
      "text/plain": [
       "<matplotlib.figure.Figure at 0x2428196c908>"
      ]
     },
     "metadata": {},
     "output_type": "display_data"
    }
   ],
   "source": [
    "prediction_df.plot()\n",
    "plt.show()"
   ]
  },
  {
   "cell_type": "code",
   "execution_count": null,
   "metadata": {
    "collapsed": true
   },
   "outputs": [],
   "source": []
  },
  {
   "cell_type": "code",
   "execution_count": null,
   "metadata": {
    "collapsed": true
   },
   "outputs": [],
   "source": []
  },
  {
   "cell_type": "code",
   "execution_count": null,
   "metadata": {
    "collapsed": true,
    "scrolled": false
   },
   "outputs": [],
   "source": []
  },
  {
   "cell_type": "code",
   "execution_count": null,
   "metadata": {
    "collapsed": true
   },
   "outputs": [],
   "source": []
  },
  {
   "cell_type": "code",
   "execution_count": null,
   "metadata": {
    "collapsed": true
   },
   "outputs": [],
   "source": []
  },
  {
   "cell_type": "code",
   "execution_count": null,
   "metadata": {
    "collapsed": true
   },
   "outputs": [],
   "source": []
  },
  {
   "cell_type": "code",
   "execution_count": null,
   "metadata": {
    "collapsed": true
   },
   "outputs": [],
   "source": []
  },
  {
   "cell_type": "code",
   "execution_count": null,
   "metadata": {
    "collapsed": true
   },
   "outputs": [],
   "source": []
  },
  {
   "cell_type": "code",
   "execution_count": null,
   "metadata": {
    "collapsed": true,
    "scrolled": false
   },
   "outputs": [],
   "source": []
  },
  {
   "cell_type": "code",
   "execution_count": null,
   "metadata": {
    "collapsed": true,
    "scrolled": true
   },
   "outputs": [],
   "source": []
  },
  {
   "cell_type": "code",
   "execution_count": null,
   "metadata": {
    "collapsed": true,
    "scrolled": false
   },
   "outputs": [],
   "source": []
  },
  {
   "cell_type": "code",
   "execution_count": 85,
   "metadata": {},
   "outputs": [],
   "source": [
    "predictions['201610'].to_csv('predictions_201610.csv')"
   ]
  },
  {
   "cell_type": "code",
   "execution_count": 86,
   "metadata": {
    "collapsed": true
   },
   "outputs": [],
   "source": [
    "predictions['201611'].to_csv('predictions_201611.csv')"
   ]
  },
  {
   "cell_type": "code",
   "execution_count": null,
   "metadata": {
    "collapsed": true
   },
   "outputs": [],
   "source": []
  }
 ],
 "metadata": {
  "kernelspec": {
   "display_name": "Python 3",
   "language": "python",
   "name": "python3"
  },
  "language_info": {
   "codemirror_mode": {
    "name": "ipython",
    "version": 3
   },
   "file_extension": ".py",
   "mimetype": "text/x-python",
   "name": "python",
   "nbconvert_exporter": "python",
   "pygments_lexer": "ipython3",
   "version": "3.6.3"
  }
 },
 "nbformat": 4,
 "nbformat_minor": 2
}
